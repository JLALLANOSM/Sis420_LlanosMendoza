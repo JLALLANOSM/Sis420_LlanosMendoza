{
  "nbformat": 4,
  "nbformat_minor": 0,
  "metadata": {
    "colab": {
      "provenance": [],
      "authorship_tag": "ABX9TyMbkkOA26e0b/WwKBXaDPYX",
      "include_colab_link": true
    },
    "kernelspec": {
      "name": "python3",
      "display_name": "Python 3"
    },
    "language_info": {
      "name": "python"
    }
  },
  "cells": [
    {
      "cell_type": "markdown",
      "metadata": {
        "id": "view-in-github",
        "colab_type": "text"
      },
      "source": [
        "<a href=\"https://colab.research.google.com/github/JLALLANOSM/Sis420_LlanosMendoza/blob/main/ExamenFinal2023/AlgoritmosGeneticos.ipynb\" target=\"_parent\"><img src=\"https://colab.research.google.com/assets/colab-badge.svg\" alt=\"Open In Colab\"/></a>"
      ]
    },
    {
      "cell_type": "markdown",
      "source": [
        "#LLANOS MENDOZA JOSE LUIS ALBERTO\n",
        "#ING. SISTEMAS\n",
        "\n",
        "\n",
        "---\n",
        "\n",
        "\n",
        "#ALGORITMOS GENETICOS"
      ],
      "metadata": {
        "id": "CG1PBjAbR34y"
      }
    },
    {
      "cell_type": "code",
      "execution_count": 4,
      "metadata": {
        "colab": {
          "base_uri": "https://localhost:8080/"
        },
        "id": "SUgGafuxLLJq",
        "outputId": "e6978894-550d-41cc-d036-a32587185cf1"
      },
      "outputs": [
        {
          "output_type": "stream",
          "name": "stdout",
          "text": [
            "Toros cargados: [100, 300, 650, 500, 350, 100]\n",
            "Número de toros cargados: 6\n",
            "Peso total de los toros cargados: 2000\n"
          ]
        }
      ],
      "source": [
        "import random\n",
        "#Ayudar a un ganadero a optener la mejor combinacion para el transporte de su ganado,\n",
        "#dado sus pesos y capacidad de transporte.\n",
        "\n",
        "# Definición del problema\n",
        "pesos_toros = [100, 200, 400, 700, 300, 650, 500, 350, 200, 100, 200]  # Pesos de los toros en kg\n",
        "capacidad_camion = 2000  # Capacidad máxima del camión en kg\n",
        "\n",
        "# Clase del problema de carga de toros\n",
        "class ProblemaCargaToros:\n",
        "    '''\n",
        "      En este caso, el método __init__ de la clase ProblemaGenetico se utiliza\n",
        "      para asignar los valores iniciales de los atributos pesos_toros y capacidad_camion.\n",
        "\n",
        "      El parámetro pesos_toros representa una lista de los pesos de los toros\n",
        "      que se van a cargar en el camión. Este valor se asigna al atributo self.pesos_toros para que pueda ser utilizado en otros métodos de la clase.\n",
        "\n",
        "      El parámetro capacidad_camion representa la capacidad máxima de carga del camión,\n",
        "      en kilogramos. Este valor se asigna al atributo self.capacidad_camion para que también pueda ser utilizado en otros métodos de la clase.\n",
        "    '''\n",
        "    def __init__(self, pesos_toros, capacidad_camion):\n",
        "        self.pesos_toros = pesos_toros\n",
        "        self.capacidad_camion = capacidad_camion\n",
        "        '''\n",
        "        - Se crea una lista llamada individuo inicialmente vacía.\n",
        "        - Se itera en un rango de longitud igual a la cantidad de toros, utilizando range(len(self.pesos_toros)).\n",
        "        En cada iteración, se genera un número aleatorio entero utilizando random.randint(0, 1).\n",
        "        Este número puede ser 0 o 1, y representa si el toro correspondiente al índice actual del bucle será cargado en el camión (1) o no (0).\n",
        "        - El número aleatorio generado se agrega a la lista individuo.\n",
        "        - Una vez finalizado el bucle, se retorna la lista individuo, que representa el individuo generado.\n",
        "        '''\n",
        "    def generar_individuo(self):\n",
        "        individuo = [random.randint(0, 1) for _ in range(len(self.pesos_toros))] #Se crea una lista llamada individuo inicialmente vacía.\n",
        "        return individuo\n",
        "    '''\n",
        "    El fitness (aptitud) es una medida que indica qué tan bueno es un individuo\n",
        "    en un algoritmo genético. Representa la calidad o adaptabilidad\n",
        "    de un individuo en relación con la solución óptima buscada en un problema específico.\n",
        "    --------------------------------------------------------------------------------------\n",
        "    la función evaluar_fitness calcula el peso total de los toros cargados\n",
        "    en el camión y devuelve el fitness correspondiente, teniendo en cuenta\n",
        "    si el peso total supera la capacidad del camión o no.\n",
        "    '''\n",
        "    def evaluar_fitness(self, individuo):\n",
        "        peso_total = sum(peso_toro * carga for peso_toro, carga in zip(self.pesos_toros, individuo))\n",
        "              #Se utiliza la función zip para combinar los pesos de los toros\n",
        "              #(self.pesos_toros) con el individuo actual. La función zip empareja los elementos de ambas listas en pares ordenados.\n",
        "        if peso_total > self.capacidad_camion: #verifica si el peso total excede la capacidad del camión\n",
        "            return self.capacidad_camion - peso_total  # se ejecuta cuando el peso total de los toros cargados en el camión supera la capacidad del camión\n",
        "        else:\n",
        "            return peso_total  #sino se devuelve el peso total calculado\n",
        "\n",
        "        '''\n",
        "          Se selecciona aleatoriamente un punto de corte entre 1 y la longitud del individuo menos 1.\n",
        "            Esto determina el punto en el cual se dividirán los cromosomas de los padres.\n",
        "          Se crea el hijo1 combinando la primera parte del padre1 hasta el punto de corte, con la segunda parte del padre2 a partir del punto de corte.\n",
        "          Se crea el hijo2 combinando la primera parte del padre2 hasta el punto de corte, con la segunda parte del padre1 a partir del punto de corte.\n",
        "          Se devuelven los dos hijos generados.\n",
        "          En resumen, el cruce se realiza dividiendo los cromosomas de los padres en un punto de corte aleatorio y combinando las partes correspondientes para formar los hijos.\n",
        "        '''\n",
        "    def cruzar(self, padre1, padre2):\n",
        "        punto_corte = random.randint(1, len(padre1) - 1)\n",
        "        hijo1 = padre1[:punto_corte] + padre2[punto_corte:]\n",
        "        hijo2 = padre2[:punto_corte] + padre1[punto_corte:]\n",
        "        return hijo1, hijo2\n",
        "\n",
        "    '''\n",
        "      Se crea una lista vacía individuo_mutado para almacenar el individuo mutado.\n",
        "      Para cada gen en el individuo original:\n",
        "      Se genera un número aleatorio entre 0 y 1 utilizando random.random().\n",
        "      Si el número aleatorio es menor que la probabilidad de mutación (prob_mutacion), se realiza una mutación cambiando el gen por su complemento (0 se convierte en 1 y viceversa). Esto se logra restando el valor del gen actual a 1.\n",
        "      Si el número aleatorio no cumple la condición de mutación, el gen se mantiene sin cambios.\n",
        "      El gen mutado se agrega a la lista individuo_mutado.\n",
        "      Se devuelve el individuo mutado.\n",
        "      En resumen, el método itera sobre cada gen del individuo y, con una probabilidad dada, realiza una mutación cambiando el valor del gen.\n",
        "    '''\n",
        "    def mutar(self, individuo, prob_mutacion):\n",
        "        individuo_mutado = []\n",
        "        for gen in individuo:\n",
        "            if random.random() < prob_mutacion:\n",
        "                individuo_mutado.append(1 - gen)\n",
        "            else:\n",
        "                individuo_mutado.append(gen)\n",
        "        return individuo_mutado\n",
        "\n",
        "\n",
        "# Parámetros del algoritmo genético\n",
        "k = 3  # Tamaño del torneo para la selección\n",
        "opt = max  # Optimización: max (buscar la carga máxima) o min (buscar la carga mínima)\n",
        "ngen = 100  # Número de generaciones\n",
        "size = 100  # Tamaño de la población\n",
        "prop_cruces = 0.8  # Proporción de cruces\n",
        "prob_mutacion = 0.05  # Probabilidad de mutación\n",
        "\n",
        "# Creación del problema\n",
        "problema_carga_toros = ProblemaCargaToros(pesos_toros, capacidad_camion)\n",
        "\n",
        "# Funciones auxiliares\n",
        "'''\n",
        "Se utiliza la función zip para combinar los elementos del individuo con los pesos de los toros correspondientes.\n",
        "Se itera sobre cada par de valores (toro, carga) obtenido a partir del zip.\n",
        "Si el valor de carga es igual a 1, significa que el toro correspondiente fue seleccionado para cargar en el camión. En ese caso,\n",
        "  se agrega el toro a una lista de toros seleccionados.\n",
        "Al finalizar el bucle, se devuelve la lista de toros seleccionados.\n",
        "En resumen, la función recorre el individuo y verifica qué toros fueron seleccionados para cargar en el camión según los valores de carga en el individuo\n",
        "'''\n",
        "def decodificar_individuo(individuo):\n",
        "    return [toro for toro, carga in zip(pesos_toros, individuo) if carga == 1]\n",
        "\n",
        "def imprimir_solucion(solucion):\n",
        "    toros_cargados = decodificar_individuo(solucion)\n",
        "    print(\"Toros cargados:\", toros_cargados)\n",
        "    print(\"Número de toros cargados:\", len(toros_cargados))\n",
        "    print(\"Peso total de los toros cargados:\", sum(toros_cargados))\n",
        "\n",
        "# Algoritmo genético\n",
        "'''\n",
        "el código realiza el proceso de selección, cruce y mutación para evolucionar\n",
        "una población de individuos a lo largo de varias generaciones y encontrar\n",
        "la mejor solución según el fitness definido en el problema genético.\n",
        "'''\n",
        "def algoritmo_genetico(problema_genetico, k, opt, ngen, size, prop_cruces, prob_mutacion):\n",
        "    poblacion = [problema_genetico.generar_individuo() for _ in range(size)]\n",
        "    for _ in range(ngen):\n",
        "        puntuados = [(individuo, problema_genetico.evaluar_fitness(individuo)) for individuo in poblacion]\n",
        "        puntuados = sorted(puntuados, key=lambda x: x[1], reverse=(opt == max))\n",
        "        poblacion = [puntuados[i][0] for i in range(size)]\n",
        "        for i in range(0, size - 1, 2):\n",
        "            if random.random() < prop_cruces:\n",
        "                poblacion[i], poblacion[i + 1] = problema_genetico.cruzar(poblacion[i], poblacion[i + 1])\n",
        "        for i in range(size):\n",
        "            poblacion[i] = problema_genetico.mutar(poblacion[i], prob_mutacion)\n",
        "    mejor_solucion = max(puntuados, key=lambda x: x[1])[0]\n",
        "    return mejor_solucion\n",
        "\n",
        "# Ejecución del algoritmo genético\n",
        "mejor_solucion = algoritmo_genetico(problema_carga_toros, k, opt, ngen, size, prop_cruces, prob_mutacion)\n",
        "\n",
        "# Imprimir la mejor solución encontrada\n",
        "imprimir_solucion(mejor_solucion)\n"
      ]
    },
    {
      "cell_type": "code",
      "source": [],
      "metadata": {
        "id": "5S59QgmMLMN_"
      },
      "execution_count": null,
      "outputs": []
    }
  ]
}