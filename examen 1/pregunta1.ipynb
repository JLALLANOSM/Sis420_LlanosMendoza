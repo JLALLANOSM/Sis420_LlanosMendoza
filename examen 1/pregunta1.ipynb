{
  "nbformat": 4,
  "nbformat_minor": 0,
  "metadata": {
    "colab": {
      "provenance": []
    },
    "kernelspec": {
      "name": "python3",
      "display_name": "Python 3"
    },
    "language_info": {
      "name": "python"
    }
  },
  "cells": [
    {
      "cell_type": "code",
      "execution_count": 50,
      "metadata": {
        "colab": {
          "base_uri": "https://localhost:8080/",
          "height": 123
        },
        "id": "EfZcaRWLpI_K",
        "outputId": "f049b0de-5a77-4e70-b253-5e91b26197ab"
      },
      "outputs": [
        {
          "output_type": "execute_result",
          "data": {
            "text/plain": [
              "'class Nodo:\\n    def __init__(self, x, y, padre=None):\\n        self.x = x\\n        self.y = y\\n        self.padre = padre\\n        self.costo_total = 0\\n        self.costo_camino = 0\\n        self.heuristica = 0\\n        \\n    def __eq__(self, otro):\\n        return self.x == otro.x and self.y == otro.y\\n\\ndef encontrar_camino(laberinto, inicio, salidas):\\n    nodos_abiertos = []\\n    nodos_cerrados = []\\n    nodo_actual = Nodo(inicio[0], inicio[1])\\n    \\n    def agregar_nodo_vecino(dx, dy):\\n        x = nodo_actual.x + dx\\n        y = nodo_actual.y + dy\\n        if x >= 0 and x < len(laberinto) and y >= 0 and y < len(laberinto[x]) and laberinto[x][y] != \"#\":\\n            nodo_vecino = Nodo(x, y, nodo_actual)\\n            if nodo_vecino not in nodos_cerrados:\\n                nodo_vecino.costo_camino = nodo_actual.costo_camino + 1\\n                nodo_vecino.heuristica = (abs(x - salidas[0][0]) + abs(y - salidas[0][1]))\\n                nodo_vecino.costo_total = nodo_vecino.costo_camino + nodo_vecino.heuristica\\n                for i in range(len(nodos_abiertos)):\\n                    if nodo_vecino == nodos_abiertos[i] and nodo_vecino.costo_camino > nodos_abiertos[i].costo_camino:\\n                        return\\n                nodos_abiertos.append(nodo_vecino)\\n    \\n    while True:\\n        if not nodos_abiertos:\\n            return None'"
            ],
            "application/vnd.google.colaboratory.intrinsic+json": {
              "type": "string"
            }
          },
          "metadata": {},
          "execution_count": 50
        }
      ],
      "source": [
        "'''class Nodo:\n",
        "    def __init__(self, x, y, padre=None):\n",
        "        self.x = x\n",
        "        self.y = y\n",
        "        self.padre = padre\n",
        "        self.costo_total = 0\n",
        "        self.costo_camino = 0\n",
        "        self.heuristica = 0\n",
        "        \n",
        "    def __eq__(self, otro):\n",
        "        return self.x == otro.x and self.y == otro.y\n",
        "\n",
        "def encontrar_camino(laberinto, inicio, salidas):\n",
        "    nodos_abiertos = []\n",
        "    nodos_cerrados = []\n",
        "    nodo_actual = Nodo(inicio[0], inicio[1])\n",
        "    \n",
        "    def agregar_nodo_vecino(dx, dy):\n",
        "        x = nodo_actual.x + dx\n",
        "        y = nodo_actual.y + dy\n",
        "        if x >= 0 and x < len(laberinto) and y >= 0 and y < len(laberinto[x]) and laberinto[x][y] != \"#\":\n",
        "            nodo_vecino = Nodo(x, y, nodo_actual)\n",
        "            if nodo_vecino not in nodos_cerrados:\n",
        "                nodo_vecino.costo_camino = nodo_actual.costo_camino + 1\n",
        "                nodo_vecino.heuristica = (abs(x - salidas[0][0]) + abs(y - salidas[0][1]))\n",
        "                nodo_vecino.costo_total = nodo_vecino.costo_camino + nodo_vecino.heuristica\n",
        "                for i in range(len(nodos_abiertos)):\n",
        "                    if nodo_vecino == nodos_abiertos[i] and nodo_vecino.costo_camino > nodos_abiertos[i].costo_camino:\n",
        "                        return\n",
        "                nodos_abiertos.append(nodo_vecino)\n",
        "    \n",
        "    while True:\n",
        "        if not nodos_abiertos:\n",
        "            return None'''\n",
        "       \n"
      ]
    },
    {
      "cell_type": "code",
      "source": [
        "from queue import PriorityQueue\n",
        "\n",
        "def distancia_manhattan(a, b):\n",
        "    \"\"\"Calcula la distancia Manhattan entre dos puntos a y b.\"\"\"\n",
        "    return abs(a[0] - b[0]) + abs(a[1] - b[1])\n",
        "\n",
        "def a_estrella(laberinto, inicio, finales):\n",
        "    \"\"\" algoritmo A estrella.\n",
        "    laberinto: matriz que representa el laberinto.\n",
        "    inicio: coordenadas de la posición de inicio.\n",
        "    finales: lista de coordenadas de las posibles salidas.\n",
        "    Devuelve el camino más corto como una lista de coordenadas.\"\"\"\n",
        "    \n",
        "    # Definir movimientos permitidos\n",
        "    movimientos = [(0, 1), (0, -1), (1, 0), (-1, 0)] # adelante, antras, abajo, arriba\n",
        "\n",
        "    # Inicializar valores\n",
        "    visitados = set()\n",
        "    costo = {inicio: 0}\n",
        "    prioridad = {inicio: distancia_manhattan(inicio, finales[0])}\n",
        "    cola_prioridad = PriorityQueue()\n",
        "    cola_prioridad.put((prioridad[inicio], inicio, []))\n",
        "\n",
        "    # algoritmo A estrella\n",
        "    while not cola_prioridad.empty():\n",
        "        _, actual, camino = cola_prioridad.get() #obtenemos una tupla primer elemento ignorado\n",
        "\n",
        "        # Si se alcanza una salida, retornar el camino de inicio a fin \n",
        "        if actual in finales:\n",
        "            return camino + [actual]\n",
        "\n",
        "        # Si ya se visitó el nodo actual, que continue osea si el nodo actual ya se encuentra en visitados\n",
        "        if actual in visitados:\n",
        "            continue #salta la interacion\n",
        "\n",
        "        # Añadir nodo actual a visitados\n",
        "        visitados.add(actual)\n",
        "\n",
        "        # Expandir los nodos vecinos\n",
        "        for movimiento in movimientos:\n",
        "            siguiente = (actual[0] + movimiento[0], actual[1] + movimiento[1])\n",
        "\n",
        "            # Si la siguiente posición está fuera de los límites del laberinto, continuar\n",
        "            if not 0 <= siguiente[0] < len(laberinto) or not 0 <= siguiente[1] < len(laberinto[0]):\n",
        "                continue\n",
        "\n",
        "            # Si la siguiente posición es un muro, continuar\n",
        "            if laberinto[siguiente[0]][siguiente[1]] == \"#\":\n",
        "                continue\n",
        "\n",
        "            # Calcular el costo del siguiente nodo\n",
        "            nuevo_costo = costo[actual] + 1\n",
        "\n",
        "            # Si el siguiente nodo ya se visitó con un costo menor, continuar\n",
        "            if siguiente in costo and nuevo_costo >= costo[siguiente]:\n",
        "                continue\n",
        "\n",
        "            # Actualizar costo y prioridad del siguiente nodo\n",
        "            costo[siguiente] = nuevo_costo\n",
        "            prioridad[siguiente] = nuevo_costo + distancia_manhattan(siguiente, finales[0])\n",
        "\n",
        "            # Agregar el siguiente nodo a la cola de prioridad\n",
        "            cola_prioridad.put((prioridad[siguiente], siguiente, camino + [actual]))\n",
        "\n",
        "    # Si no se encontró un camino, retornar None\n",
        "    return None\n"
      ],
      "metadata": {
        "id": "eMNPZ67RtXKk"
      },
      "execution_count": 51,
      "outputs": []
    },
    {
      "cell_type": "code",
      "source": [
        "             #  0    1    2    3    4    5    6    7    8    9\n",
        "laberinto = [ [\"E\", \"_\", \"_\", \"_\", \"#\", \"_\", \"#\", \"_\", \"_\", \"_\"], #0\n",
        "              [\"_\", \"#\", \"#\", \"_\", \"_\", \"_\", \"c\", \"_\", \"_\", \"_\"], #1\n",
        "              [\"_\", \"#\", \"_\", \"#\", \"b\", \"#\", \"_\", \"#\", \"_\", \"#\"], #2\n",
        "              [\"#\", \"_\", \"_\", \"_\", \"#\", \"_\", \"_\", \"_\", \"_\", \"#\"], #3\n",
        "              [\"_\", \"_\", \"_\", \"_\", \"_\", \"#\", \"_\", \"#\", \"_\", \"_\"], #4\n",
        "              [\"_\", \"#\", \"_\", \"_\", \"#\", \"_\", \"_\", \"a\", \"_ \", \"_\"],#5\n",
        "              [\"_\", \"#\", \"_\", \"_\", \"_\", \"_\", \"_\", \"_\", \"_\", \"#\"], #6\n",
        "              [\"_\", \"#\", \"_\", \"#\", \"#\", \"#\", \"#\", \"_\", \"_\", \"#\"], #7\n",
        "              [\"_\", \"_\", \"_\", \"_\", \"_\", \"_\", \"_\", \"_\", \"_\", \"#\"], #8\n",
        "              [\"#\", \"_\", \"#\", \"_\", \"_\", \"#\", \"#\", \"_\", \"_\", \"_\"]] #9\n",
        "#               0    1    2    3    4    5    6    7    8    9\n",
        "laberinto"
      ],
      "metadata": {
        "colab": {
          "base_uri": "https://localhost:8080/"
        },
        "id": "Lo1Kxs-nzM_l",
        "outputId": "cdafd03c-f0da-446d-b537-8ac1cfea328a"
      },
      "execution_count": 67,
      "outputs": [
        {
          "output_type": "execute_result",
          "data": {
            "text/plain": [
              "[['E', '_', '_', '_', '#', '_', '#', '_', '_', '_'],\n",
              " ['_', '#', '#', '_', '_', '_', 'c', '_', '_', '_'],\n",
              " ['_', '#', '_', '#', 'b', '#', '_', '#', '_', '#'],\n",
              " ['#', '_', '_', '_', '#', '_', '_', '_', '_', '#'],\n",
              " ['_', '_', '_', '_', '_', '#', '_', '#', '_', '_'],\n",
              " ['_', '#', '_', '_', '#', '_', '_', 'a', '_ ', '_'],\n",
              " ['_', '#', '_', '_', '_', '_', '_', '_', '_', '#'],\n",
              " ['_', '#', '_', '#', '#', '#', '#', '_', '_', '#'],\n",
              " ['_', '_', '_', '_', '_', '_', '_', '_', '_', '#'],\n",
              " ['#', '_', '#', '_', '_', '#', '#', '_', '_', '_']]"
            ]
          },
          "metadata": {},
          "execution_count": 67
        }
      ]
    },
    {
      "cell_type": "code",
      "source": [
        "inicio = (0, 0)\n",
        "finales = [(5, 7), (2, 4), (1, 6)]\n",
        "camino = a_estrella(laberinto, inicio, finales)\n",
        "finales[0]"
      ],
      "metadata": {
        "colab": {
          "base_uri": "https://localhost:8080/"
        },
        "id": "V8AE3tb9zxWv",
        "outputId": "46d5cdcb-aa4c-4a79-b82e-c9f26005a681"
      },
      "execution_count": 68,
      "outputs": [
        {
          "output_type": "execute_result",
          "data": {
            "text/plain": [
              "(5, 7)"
            ]
          },
          "metadata": {},
          "execution_count": 68
        }
      ]
    },
    {
      "cell_type": "code",
      "source": [
        "if camino is not None:\n",
        "    print(\"El camino más corto es:\", camino)\n",
        "    for i, fila in enumerate(laberinto):\n",
        "        for j, celda in enumerate(fila):\n",
        "            if (i, j) in camino:\n",
        "                if(i, j) == camino[0]:\n",
        "                  print(\"E\", end=\"\")\n",
        "                else:\n",
        "                    if (i, j) == finales[0]:\n",
        "                      print(\"a\", end=\"\")\n",
        "                    else:\n",
        "                      if (i, j) == finales[1]:\n",
        "                        print(\"b\", end=\"\")\n",
        "                      else:\n",
        "                        if (i, j) == finales[2]:\n",
        "                          print(\"c\", end=\"\")\n",
        "                        else:\n",
        "                          print(\"*\", end=\"\")\n",
        "            else:\n",
        "                print(celda, end=\"\")\n",
        "        print()\n",
        "else:\n",
        "    print(\"No se encontró un camino.\")\n"
      ],
      "metadata": {
        "colab": {
          "base_uri": "https://localhost:8080/"
        },
        "id": "xwUGWiqn0HMv",
        "outputId": "4bf2c002-9085-4b9f-d584-d18c9d3a4caa"
      },
      "execution_count": 69,
      "outputs": [
        {
          "output_type": "stream",
          "name": "stdout",
          "text": [
            "El camino más corto es: [(0, 0), (0, 1), (0, 2), (0, 3), (1, 3), (1, 4), (1, 5), (1, 6)]\n",
            "E***#_#___\n",
            "_##***c___\n",
            "_#_#b#_#_#\n",
            "#___#____#\n",
            "_____#_#__\n",
            "_#__#__a_ _\n",
            "_#_______#\n",
            "_#_####__#\n",
            "_________#\n",
            "#_#__##___\n"
          ]
        }
      ]
    },
    {
      "cell_type": "code",
      "source": [
        "print(\"c\", end=\"_\")"
      ],
      "metadata": {
        "colab": {
          "base_uri": "https://localhost:8080/"
        },
        "id": "VquUgVyl7R4T",
        "outputId": "2ea2e184-62b2-40dc-f0fe-fb412e973ef1"
      },
      "execution_count": 55,
      "outputs": [
        {
          "output_type": "stream",
          "name": "stdout",
          "text": [
            "c_"
          ]
        }
      ]
    },
    {
      "cell_type": "code",
      "source": [
        "a = [1, 4]\n",
        "b = [1, 6]\n",
        "def distancia_manhattan(a, b):\n",
        "    \"\"\"Calcula la distancia Manhattan entre dos puntos a y b.\"\"\"\n",
        "    return abs(a[0] - b[0]) + abs(a[1] - b[1])\n",
        "distancia_manhattan(a, b)"
      ],
      "metadata": {
        "colab": {
          "base_uri": "https://localhost:8080/"
        },
        "id": "QIWwVtE80f5Y",
        "outputId": "626fba44-b421-4be8-cde6-07c1d015745b"
      },
      "execution_count": 80,
      "outputs": [
        {
          "output_type": "execute_result",
          "data": {
            "text/plain": [
              "2"
            ]
          },
          "metadata": {},
          "execution_count": 80
        }
      ]
    },
    {
      "cell_type": "code",
      "source": [
        "#(5, 7), (2, 4), (1, 6)\n",
        "a = [1, 4]\n",
        "b = [2, 4]\n",
        "def distancia_manhattan(a, b):\n",
        "    \"\"\"Calcula la distancia Manhattan entre dos puntos a y b.\"\"\"\n",
        "    return abs(a[0] - b[0]) + abs(a[1] - b[1])\n",
        "distancia_manhattan(a, b)"
      ],
      "metadata": {
        "colab": {
          "base_uri": "https://localhost:8080/"
        },
        "id": "REzWgN_RCuXf",
        "outputId": "34c99c0c-a298-48b9-89a3-819580830286"
      },
      "execution_count": 81,
      "outputs": [
        {
          "output_type": "execute_result",
          "data": {
            "text/plain": [
              "1"
            ]
          },
          "metadata": {},
          "execution_count": 81
        }
      ]
    },
    {
      "cell_type": "code",
      "source": [],
      "metadata": {
        "id": "J-CYeiccDMkR"
      },
      "execution_count": null,
      "outputs": []
    }
  ]
}