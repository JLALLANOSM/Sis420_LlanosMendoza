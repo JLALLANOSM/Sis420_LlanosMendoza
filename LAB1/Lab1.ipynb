{
  "nbformat": 4,
  "nbformat_minor": 0,
  "metadata": {
    "colab": {
      "provenance": [],
      "authorship_tag": "ABX9TyOXyyRM90zup0kAeCXrMhVC",
      "include_colab_link": true
    },
    "kernelspec": {
      "name": "python3",
      "display_name": "Python 3"
    },
    "language_info": {
      "name": "python"
    }
  },
  "cells": [
    {
      "cell_type": "markdown",
      "metadata": {
        "id": "view-in-github",
        "colab_type": "text"
      },
      "source": [
        "<a href=\"https://colab.research.google.com/github/JLALLANOSM/Sis420_LlanosMendoza/blob/main/LAB1/Lab1.ipynb\" target=\"_parent\"><img src=\"https://colab.research.google.com/assets/colab-badge.svg\" alt=\"Open In Colab\"/></a>"
      ]
    },
    {
      "cell_type": "code",
      "execution_count": 1,
      "metadata": {
        "id": "R6A1X78_NM4X"
      },
      "outputs": [],
      "source": [
        "class Nodo:\n",
        "    def __init__(self, estado, hijo=None):\n",
        "        self.estado = estado\n",
        "        self.hijo = None\n",
        "        self.padre = None\n",
        "        self.accion = None\n",
        "        self.acciones = None\n",
        "        self.costo = None\n",
        "        self.set_hijo(hijo)\n",
        "\n",
        "    def set_estado(self, estado):\n",
        "        self.estado = estado\n",
        "\n",
        "    def get_estado(self):\n",
        "        return self.estado\n",
        "\n",
        "    def set_hijo(self, hijo):\n",
        "        self.hijo = hijo\n",
        "        if self.hijo is not None:\n",
        "            for s in self.hijo:\n",
        "                s.padre = self\n",
        "\n",
        "    def get_hijo(self):\n",
        "        return self.hijo\n",
        "    \n",
        "    def set_padre(self, padre):\n",
        "        self.padre = padre\n",
        "\n",
        "    def get_padre(self):\n",
        "        return self.padre\n",
        "    \n",
        "    def set_accion(self, accion):\n",
        "        self.padre = accion\n",
        "\n",
        "    def get_accion(self):\n",
        "        return self.accion\n",
        "\n",
        "    def set_acciones(self, acciones):\n",
        "        self.acciones = acciones\n",
        "\n",
        "    def get_acciones(self):\n",
        "        return self.acciones\n",
        "\n",
        "    def set_costo(self, costo):\n",
        "        self.costo = costo\n",
        "\n",
        "    def get_costo(self):\n",
        "        return self.costo\n",
        "\n",
        "    def equal(self, Nodo):\n",
        "        if self.get_estado() == Nodo.get_estado():\n",
        "            return True\n",
        "        else:\n",
        "            return False\n",
        "\n",
        "    def en_lista(self, lista_nodos):\n",
        "        enlistado = False\n",
        "        for n in lista_nodos:\n",
        "            if self.equal(n):\n",
        "                enlistado = True\n",
        "        return enlistado\n",
        "\n",
        "    def __str__(self):\n",
        "        return str(self.get_estado())\n"
      ]
    },
    {
      "cell_type": "code",
      "source": [
        "#from Nodos import Nodo\n",
        "\n",
        "\n",
        "def busqueda_BPA_solucion(estado_inicial, solucion):\n",
        "    resuelto = False\n",
        "    nodos_visitados = []\n",
        "    nodos_frontera = []\n",
        "\n",
        "    nodo_raiz = Nodo(estado_inicial)\n",
        "    nodos_frontera.append(nodo_raiz)\n",
        "    while (not resuelto) and len(nodos_frontera) != 0:\n",
        "        nodo_actual = nodos_frontera.pop(0)\n",
        "        # extraer nodo y añadirlo a visitados\n",
        "        nodos_visitados.append(nodo_actual)\n",
        "        if nodo_actual.get_estado() == solucion:\n",
        "            # solucion encontrada\n",
        "            resuelto = True\n",
        "            return nodo_actual\n",
        "        else:\n",
        "            # expandir nodos hijo\n",
        "            estado_nodo = nodo_actual.get_estado()\n",
        "            hijo = estado_nodo.copy()\n",
        "            hijos = []\n",
        "            # operador izquierdo\n",
        "            for i in range(len(hijo)-1):\n",
        "                hijo[i], hijo[i+1] = hijo[i+1], hijo[i]\n",
        "                hijos.append(Nodo(hijo))\n",
        "                if not hijos[i].en_lista(nodos_visitados) and not hijos[i].en_lista(nodos_frontera):\n",
        "                    nodos_frontera.append(hijos[i])\n",
        "                hijo = estado_nodo.copy()\n",
        "\n",
        "            '''# operador central\n",
        "            hijo = [estado_nodo[0], estado_nodo[2], estado_nodo[1], estado_nodo[3]]\n",
        "            hijo_centro = Nodo(hijo)\n",
        "            if not hijo_centro.en_lista(nodos_visitados) and not hijo_centro.en_lista(nodos_frontera):\n",
        "                nodos_frontera.append(hijo_centro)\n",
        "\n",
        "            # operador derecho\n",
        "            hijo = [estado_nodo[0], estado_nodo[1], estado_nodo[3], estado_nodo[2]]\n",
        "            hijo_derecha = Nodo(hijo)\n",
        "            if not hijo_derecha.en_lista(nodos_visitados) and not hijo_derecha.en_lista(nodos_frontera):\n",
        "                nodos_frontera.append(hijo_derecha)'''\n",
        "\n",
        "            nodo_actual.set_hijo(hijos)\n",
        "\n",
        "\n",
        "if __name__ == \"__main__\":\n",
        "    estado_inicial = [7,6, 5, 4, 3, 2, 1]\n",
        "    solucion = [1, 2, 3, 4, 5, 6, 7]\n",
        "    nodo_solucion = busqueda_BPA_solucion(estado_inicial, solucion)\n",
        "    # mostrar resultado\n",
        "    resultado = []\n",
        "    nodo_actual = nodo_solucion\n",
        "    while nodo_actual.get_padre() is not None:\n",
        "        resultado.append(nodo_actual.get_estado())\n",
        "        nodo_actual = nodo_actual.get_padre()\n",
        "\n",
        "    resultado.append(estado_inicial)\n",
        "    resultado.reverse()\n",
        "    print(resultado)"
      ],
      "metadata": {
        "colab": {
          "base_uri": "https://localhost:8080/"
        },
        "id": "euzZOz0cNPGS",
        "outputId": "a25612a2-bdd0-4d8b-8a9a-1b98d52709d9"
      },
      "execution_count": 5,
      "outputs": [
        {
          "output_type": "stream",
          "name": "stdout",
          "text": [
            "[[7, 6, 5, 4, 3, 2, 1], [6, 7, 5, 4, 3, 2, 1], [6, 5, 7, 4, 3, 2, 1], [5, 6, 7, 4, 3, 2, 1], [5, 6, 4, 7, 3, 2, 1], [5, 4, 6, 7, 3, 2, 1], [4, 5, 6, 7, 3, 2, 1], [4, 5, 6, 3, 7, 2, 1], [4, 5, 3, 6, 7, 2, 1], [4, 3, 5, 6, 7, 2, 1], [3, 4, 5, 6, 7, 2, 1], [3, 4, 5, 6, 2, 7, 1], [3, 4, 5, 2, 6, 7, 1], [3, 4, 2, 5, 6, 7, 1], [3, 2, 4, 5, 6, 7, 1], [2, 3, 4, 5, 6, 7, 1], [2, 3, 4, 5, 6, 1, 7], [2, 3, 4, 5, 1, 6, 7], [2, 3, 4, 1, 5, 6, 7], [2, 3, 1, 4, 5, 6, 7], [2, 1, 3, 4, 5, 6, 7], [1, 2, 3, 4, 5, 6, 7]]\n"
          ]
        }
      ]
    },
    {
      "cell_type": "code",
      "source": [],
      "metadata": {
        "id": "gPzU3bGiNVuz"
      },
      "execution_count": null,
      "outputs": []
    }
  ]
}