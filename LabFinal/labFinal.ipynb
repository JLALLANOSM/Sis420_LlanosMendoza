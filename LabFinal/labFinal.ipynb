{
  "cells": [
    {
      "cell_type": "markdown",
      "metadata": {
        "id": "view-in-github",
        "colab_type": "text"
      },
      "source": [
        "<a href=\"https://colab.research.google.com/github/JLALLANOSM/Sis420_LlanosMendoza/blob/main/LabFinal/labFinal.ipynb\" target=\"_parent\"><img src=\"https://colab.research.google.com/assets/colab-badge.svg\" alt=\"Open In Colab\"/></a>"
      ]
    },
    {
      "cell_type": "markdown",
      "metadata": {
        "id": "pVk7uxcnosgz"
      },
      "source": [
        "# Nombre: LLanos Mendoza Jose Luis Alberto\n",
        "\n",
        "## Ing Sistemas \n"
      ]
    },
    {
      "cell_type": "code",
      "execution_count": 422,
      "metadata": {
        "id": "pepvqJMBosg1"
      },
      "outputs": [],
      "source": [
        "# utilizado para la manipulación de directorios y rutas\n",
        "import os\n",
        "\n",
        "# Cálculo científico y vectorial para python\n",
        "import numpy as np\n",
        "\n",
        "# Libreria para graficos\n",
        "from matplotlib import pyplot\n",
        "\n",
        "# Modulo de optimizacion en scipy\n",
        "from scipy import optimize\n",
        "\n",
        "# modulo para cargar archivos en formato MATLAB\n",
        "from scipy.io import loadmat\n",
        "\n",
        "# le dice a matplotlib que incruste gráficos en el cuaderno\n",
        "%matplotlib inline"
      ]
    },
    {
      "cell_type": "code",
      "source": [
        "from google.colab import drive\n",
        "drive.mount('/content/drive')"
      ],
      "metadata": {
        "colab": {
          "base_uri": "https://localhost:8080/"
        },
        "id": "hAhZig46x_AN",
        "outputId": "a86f5277-bcc4-4075-8f6e-e9c9e5fc44a9"
      },
      "execution_count": 423,
      "outputs": [
        {
          "output_type": "stream",
          "name": "stdout",
          "text": [
            "Drive already mounted at /content/drive; to attempt to forcibly remount, call drive.mount(\"/content/drive\", force_remount=True).\n"
          ]
        }
      ]
    },
    {
      "cell_type": "markdown",
      "source": [
        "#la funcion csvAdapter, nos ayuda al tratamiento de datos, para cuantificar las caracteristicas del dataset"
      ],
      "metadata": {
        "id": "VpEUcfkGGsM9"
      }
    },
    {
      "cell_type": "code",
      "source": [
        "import pandas as pd\n",
        "\n",
        "def csvAdapter(dataset,modificarColumnas,eliminarColumnas):\n",
        "    data =pd.read_csv(dataset,encoding='latin-1')#lee y carga el archivo del data set a la variable data\n",
        "    columna = data.columns #asignamos los nombres de columna a la variables columna\n",
        "\n",
        "    for index in modificarColumnas:\n",
        "        name = columna[index]\n",
        "        value = list(data[name].unique())#obetenemos todos lo valores unicos de cada columna\n",
        "        data[name] = data[name].map(dict(zip(value,[i for i in range(len(value))]))) #aqui es donde hacemos el tratamiento de datos donde a cada valor unico aiganmos un indice, indice que es numerico ejm 0=femenino, 1=masculino  \n",
        "    data = data.drop([columna[index]for index in eliminarColumnas],axis=1)#eliminamos las columnas que no interesan en la resolucion o prediccion del problema   \n",
        "    data = data.dropna()#eliminamos las filas que contengan valores nulos\n",
        "    #data = pd.DataFrame(data, columns=columna)\n",
        "    #dataN = data.to_numpy()\n",
        "    print(data.head())\n",
        "    return data\n",
        "rutadataset='/content/drive/MyDrive/datasets/Train.csv'\n",
        "columnaCategoricas = [i for i in range(0, 11) if not i in [3, 6, 8]]# poner columnas que no son categoricas o no interesan enla prediccionn\n",
        "eliminarColumnas=[0]#columnas a eliminar\n",
        "data = csvAdapter(rutadataset, columnaCategoricas, eliminarColumnas)\n",
        "\n",
        "#from IPython import display\n",
        "\n",
        "# ...\n",
        "\n",
        "#data = csvAdapter(rutadataset, columnaCategoricas, eliminarColumnas)\n",
        "\n",
        "# Convertir el array de NumPy a DataFrame\n",
        "\n",
        "#data_df = pd.DataFrame(data, columns=columna)\n",
        "# Guardar el nuevo dataset en un archivo CSV\n",
        "#data_df.to_csv('nuevo_dataset.csv', index=False)\n",
        "\n",
        "# Descargar el archivo CSV\n",
        "#display.FileLink('nuevo_dataset.csv')\n"
      ],
      "metadata": {
        "colab": {
          "base_uri": "https://localhost:8080/"
        },
        "id": "FTN5JHCNx27O",
        "outputId": "28c96728-4c16-44d3-d35c-d444d152e694"
      },
      "execution_count": 424,
      "outputs": [
        {
          "output_type": "stream",
          "name": "stdout",
          "text": [
            "   Gender  Ever_Married  Age  Graduated  Profession  Work_Experience  \\\n",
            "0       0             0   22          0           0              1.0   \n",
            "2       1             1   67          1           1              1.0   \n",
            "3       0             1   67          1           2              0.0   \n",
            "5       0             1   56          0           4              0.0   \n",
            "6       0             0   32          1           0              1.0   \n",
            "\n",
            "   Spending_Score  Family_Size  Var_1  Segmentation  \n",
            "0               0          4.0      0             0  \n",
            "2               0          1.0      1             2  \n",
            "3               2          2.0      1             2  \n",
            "5               1          2.0      1             3  \n",
            "6               0          3.0      1             3  \n"
          ]
        }
      ]
    },
    {
      "cell_type": "code",
      "source": [
        "#data[:,0].size"
      ],
      "metadata": {
        "id": "3T1aWPgLms0T"
      },
      "execution_count": 425,
      "outputs": []
    },
    {
      "cell_type": "code",
      "source": [],
      "metadata": {
        "id": "7RPVB2-aHALs"
      },
      "execution_count": null,
      "outputs": []
    },
    {
      "cell_type": "markdown",
      "source": [
        "#la Funcion DatosSinteticos, nos ayuda a generar los datos sintetico mediante las funciones ramdom.choice que a partir de los datos del data set proporcionado va generando numeros aleatorios para cada columa tendiendo en cuenta como se dijo los datos de dataset"
      ],
      "metadata": {
        "id": "HISe-hFkHDoK"
      }
    },
    {
      "cell_type": "code",
      "source": [
        "import pandas as pd\n",
        "def DatosSinteticos(data):\n",
        "    n_Filas = 10000\n",
        "    datosNuevos = np.empty([n_Filas, len(data.columns)])#creamos una matriz vacia con 10000 fila y las cantidad de columnas existentes en el dataset\n",
        "    \n",
        "    for i in range(len(data.columns)):\n",
        "        columna_i = data.iloc[:,i]\n",
        "        muestras_i = np.random.choice(columna_i,n_Filas, replace=True)#generar los numeros aleatorio dependiendo de la muetra tomada, replace \n",
        "        datosNuevos[:,i] = muestras_i.round()#redondeamos las muestras para trabajar de mejor manera                           #replace indica si las muestras pueden o no repetirse \n",
        "    columnas = list(data.columns) #crea una lista de los nombres de columnas\n",
        "    datosNuevos_df = pd.DataFrame(datosNuevos, columns=columnas) #crea un nuevo data frame \n",
        "\n",
        "    dataExtend = pd.concat([data, datosNuevos_df], axis=0)#concatena el data con los datos sinteticos creados\n",
        "    print(dataExtend.tail())\n",
        "    return dataExtend\n",
        "\n",
        "data = DatosSinteticos(data)\n",
        "#data.to_csv('nuevdata.csv')\n",
        "data.size"
      ],
      "metadata": {
        "colab": {
          "base_uri": "https://localhost:8080/"
        },
        "id": "_AI5bYiaj9sO",
        "outputId": "48050aa2-6189-4a3d-e849-0c3d8c15e4af"
      },
      "execution_count": 426,
      "outputs": [
        {
          "output_type": "stream",
          "name": "stdout",
          "text": [
            "      Gender  Ever_Married   Age  Graduated  Profession  Work_Experience  \\\n",
            "9995     0.0           0.0  67.0        1.0         0.0              6.0   \n",
            "9996     1.0           1.0  28.0        1.0         4.0              0.0   \n",
            "9997     1.0           1.0  61.0        0.0         4.0              4.0   \n",
            "9998     0.0           0.0  65.0        0.0         0.0              9.0   \n",
            "9999     1.0           1.0  19.0        0.0         4.0              8.0   \n",
            "\n",
            "      Spending_Score  Family_Size  Var_1  Segmentation  \n",
            "9995             1.0          1.0    1.0           3.0  \n",
            "9996             1.0          9.0    1.0           2.0  \n",
            "9997             2.0          2.0    1.0           0.0  \n",
            "9998             2.0          1.0    1.0           0.0  \n",
            "9999             0.0          3.0    1.0           3.0  \n"
          ]
        },
        {
          "output_type": "execute_result",
          "data": {
            "text/plain": [
              "169690"
            ]
          },
          "metadata": {},
          "execution_count": 426
        }
      ]
    },
    {
      "cell_type": "code",
      "execution_count": 440,
      "metadata": {
        "colab": {
          "base_uri": "https://localhost:8080/",
          "height": 235
        },
        "id": "8rGlJhU_osg2",
        "outputId": "51d7becb-dc9d-4bd9-ee3b-c575538229b7"
      },
      "outputs": [
        {
          "output_type": "error",
          "ename": "AttributeError",
          "evalue": "ignored",
          "traceback": [
            "\u001b[0;31m---------------------------------------------------------------------------\u001b[0m",
            "\u001b[0;31mAttributeError\u001b[0m                            Traceback (most recent call last)",
            "\u001b[0;32m<ipython-input-440-953242f99aa3>\u001b[0m in \u001b[0;36m<cell line: 18>\u001b[0;34m()\u001b[0m\n\u001b[1;32m     16\u001b[0m \u001b[0;31m#y[y == 10] = 0\u001b[0m\u001b[0;34m\u001b[0m\u001b[0;34m\u001b[0m\u001b[0m\n\u001b[1;32m     17\u001b[0m \u001b[0;31m#___________________________________________________________________________________________________\u001b[0m\u001b[0;34m\u001b[0m\u001b[0;34m\u001b[0m\u001b[0m\n\u001b[0;32m---> 18\u001b[0;31m \u001b[0mdata\u001b[0m \u001b[0;34m=\u001b[0m \u001b[0mdata\u001b[0m\u001b[0;34m.\u001b[0m\u001b[0mto_numpy\u001b[0m\u001b[0;34m(\u001b[0m\u001b[0;34m)\u001b[0m\u001b[0;34m\u001b[0m\u001b[0;34m\u001b[0m\u001b[0m\n\u001b[0m\u001b[1;32m     19\u001b[0m \u001b[0;31m#X, y = data[:, 0:9], data[:, 9]\u001b[0m\u001b[0;34m\u001b[0m\u001b[0;34m\u001b[0m\u001b[0m\n\u001b[1;32m     20\u001b[0m \u001b[0;31m#X, y = data[:3000, 0:9], data[:3000, 9] # para el 30 % de los datos\u001b[0m\u001b[0;34m\u001b[0m\u001b[0;34m\u001b[0m\u001b[0m\n",
            "\u001b[0;31mAttributeError\u001b[0m: 'numpy.ndarray' object has no attribute 'to_numpy'"
          ]
        }
      ],
      "source": [
        "\n",
        "#data = pd.read_csv('/content/drive/MyDrive/datasets/prediccionlluevia.csv', sep=',')\n",
        "#data.head()\n",
        "#value = list( data[\"PROFILE\"].unique())\n",
        "#print(len(value))\n",
        "# Ingresar imágenes de dígitos de 20x20\n",
        "input_layer_size  = 400\n",
        "\n",
        "# 10 etiquetas, de 1 a 10 (tomar en cuenta que se asigna \"0\" a la etiqueta 10)\n",
        "num_labels = 4\n",
        "\n",
        "#  datos de entrenamiento almacenados en los arreglos X, y\n",
        "#data = loadmat(os.path.join('/content/drive/MyDrive/datasets/prediccionlluevia.csv'))\n",
        "#X, y = data['X'], data['y'].ravel()\n",
        "# establecer el dígito cero en 0, en lugar del 10 asignado a este conjunto de datos\n",
        "# Esto se hace debido a que el conjunto de datos se utilizó en MATLAB donde no hay índice 0\n",
        "#y[y == 10] = 0\n",
        "#___________________________________________________________________________________________________\n",
        "#___________________________________________________________________________________________________\n",
        "data = data.to_numpy()\n",
        "#X, y = data[:, 0:9], data[:, 9]\n",
        "#X, y = data[:3000, 0:9], data[:3000, 9] # para el 30 % de los datos \n",
        "X, y = data[:6000, 0:9], data[:6000, 9]# para el 60% de los datos \n",
        "#y =  y.round()\n",
        "#print(y[7000])\n",
        "m = y.size\n",
        "m"
      ]
    },
    {
      "cell_type": "code",
      "execution_count": 428,
      "metadata": {
        "colab": {
          "base_uri": "https://localhost:8080/"
        },
        "id": "YQmDF6tYosg2",
        "outputId": "a7c00794-a528-4c39-c274-1443740c8878"
      },
      "outputs": [
        {
          "output_type": "stream",
          "name": "stdout",
          "text": [
            "[[ 0.  0. 22. ...  0.  4.  0.]\n",
            " [ 1.  1. 67. ...  0.  1.  1.]\n",
            " [ 0.  1. 67. ...  2.  2.  1.]\n",
            " ...\n",
            " [ 0.  1. 28. ...  0.  2.  1.]\n",
            " [ 1.  1. 35. ...  1.  2.  1.]\n",
            " [ 1.  1. 75. ...  2.  2.  1.]]\n",
            "[0. 2. 2. ... 3. 3. 2.]\n"
          ]
        }
      ],
      "source": [
        "print(X)\n",
        "print(y)"
      ]
    },
    {
      "cell_type": "markdown",
      "metadata": {
        "id": "JDhl6zpjosg3"
      },
      "source": [
        "### 1.2 Visualización de los datos\n",
        "\n",
        "Se comenzará visualizando un subconjunto del conjunto de entrenamiento. Se selecciona al azar, 100 filas de `X` y pasa esas filas a la función` displayData`. Esta función asigna cada fila a una imagen en escala de grises de 20 píxeles por 20 píxeles y muestra las imágenes juntas."
      ]
    },
    {
      "cell_type": "code",
      "execution_count": 429,
      "metadata": {
        "id": "-97eKUqjosg3"
      },
      "outputs": [],
      "source": [
        "def displayData(X, example_width=None, figsize=(10, 10)):\n",
        "    \"\"\"\n",
        "    Muestra datos 2D almacenados en X en una cuadrícula apropiada.\n",
        "    \"\"\"\n",
        "    # Calcula filas, columnas\n",
        "    if X.ndim == 2:\n",
        "        m, n = X.shape\n",
        "    elif X.ndim == 1:\n",
        "        n = X.size\n",
        "        m = 1\n",
        "        X = X[None]  # Promocionar a una matriz bidimensional\n",
        "    else:\n",
        "        raise IndexError('La entrada X debe ser 1 o 2 dimensinal.')\n",
        "\n",
        "    example_width = example_width or int(np.round(np.sqrt(n)))\n",
        "    example_height = n / example_width\n",
        "\n",
        "    # Calcula el numero de elementos a mostrar\n",
        "    display_rows = int(np.floor(np.sqrt(m)))\n",
        "    display_cols = int(np.ceil(m / display_rows))\n",
        "\n",
        "    fig, ax_array = pyplot.subplots(display_rows, display_cols, figsize=figsize)\n",
        "    fig.subplots_adjust(wspace=0.025, hspace=0.025)\n",
        "\n",
        "    ax_array = [ax_array] if m == 1 else ax_array.ravel()\n",
        "\n",
        "    for i, ax in enumerate(ax_array):\n",
        "        ax.imshow(X[i].reshape(example_width, example_width, order='F'),\n",
        "                  cmap='Greys', extent=[0, 1, 0, 1])\n",
        "        ax.axis('off')"
      ]
    },
    {
      "cell_type": "code",
      "execution_count": 430,
      "metadata": {
        "id": "wu4IVS4nosg3"
      },
      "outputs": [],
      "source": [
        "# Selecciona aleatoriamente 100 puntos de datos para mostrar\n",
        "#rand_indices = np.random.choice(m, 100, replace=False)\n",
        "#sel = X[rand_indices, :]\n",
        "\n",
        "#displayData(sel)"
      ]
    },
    {
      "cell_type": "code",
      "execution_count": 431,
      "metadata": {
        "colab": {
          "base_uri": "https://localhost:8080/"
        },
        "id": "LLSB4hyKosg4",
        "outputId": "ab17c853-8a72-4fcf-840b-9e0556c48039"
      },
      "outputs": [
        {
          "output_type": "stream",
          "name": "stdout",
          "text": [
            "[[1.  0.1 0.6 1.1]\n",
            " [1.  0.2 0.7 1.2]\n",
            " [1.  0.3 0.8 1.3]\n",
            " [1.  0.4 0.9 1.4]\n",
            " [1.  0.5 1.  1.5]]\n"
          ]
        }
      ],
      "source": [
        "# valores de prueba para los parámetros theta\n",
        "theta_t = np.array([-2, -1, 1, 2], dtype=float)\n",
        "\n",
        "# valores de prueba para las entradas\n",
        "X_t = np.concatenate([np.ones((5, 1)), np.arange(1, 16).reshape(5, 3, order='F')/10.0], axis=1)\n",
        "print(X_t)\n",
        "# valores de testeo para las etiquetas\n",
        "y_t = np.array([1, 0, 1, 0, 1])\n",
        "\n",
        "# valores de testeo para el parametro de regularizacion\n",
        "lambda_t = 3"
      ]
    },
    {
      "cell_type": "code",
      "execution_count": 432,
      "metadata": {
        "id": "IJZbWbl2osg4"
      },
      "outputs": [],
      "source": [
        "def sigmoid(z):\n",
        "    \"\"\"\n",
        "    Calcula la sigmoide de z.\n",
        "    \"\"\"\n",
        "    return 1.0 / (1.0 + np.exp(-z))"
      ]
    },
    {
      "cell_type": "code",
      "execution_count": 433,
      "metadata": {
        "id": "hKIG2RM9osg4"
      },
      "outputs": [],
      "source": [
        "def lrCostFunction(theta, X, y, lambda_):\n",
        "    \"\"\"\n",
        "    Calcula el costo de usar theta como parámetro para la regresión logística regularizada y \n",
        "    el gradiente del costo w.r.t. a los parámetros.\n",
        "    \n",
        "    Parametros\n",
        "    ----------\n",
        "    theta : array_like\n",
        "        Parametro theta de la regresion logistica. Vector de la forma(shape) (n, ). n es el numero de caracteristicas \n",
        "        incluida la intercepcion\n",
        "        \n",
        "    X : array_like\n",
        "        Dataset con la forma(shape) (m x n). m es el numero de ejemplos, y n es el numero de \n",
        "        caracteristicas (incluida la intercepcion).\n",
        "    \n",
        "    y : array_like\n",
        "        El conjunto de etiquetas. Un vector con la forma (shape) (m, ). m es el numero de ejemplos\n",
        "    \n",
        "    lambda_ : float\n",
        "        Parametro de regularización. \n",
        "    \n",
        "    Devuelve\n",
        "    -------\n",
        "    J : float\n",
        "        El valor calculado para la funcion de costo regularizada. \n",
        "    \n",
        "    grad : array_like\n",
        "        Un vector de la forma (shape) (n, ) que es el gradiente de la \n",
        "        función de costo con respecto a theta, en los valores actuales de theta..\n",
        "    \"\"\"\n",
        "    # Inicializa algunos valores utiles\n",
        "    m = y.size\n",
        "    epzilon = 1e-5 \n",
        "    # convierte las etiquetas a valores enteros si son boleanos\n",
        "    if y.dtype == bool:\n",
        "        y = y.astype(int)\n",
        "    \n",
        "    J = 0\n",
        "    grad = np.zeros(theta.shape)\n",
        "    \n",
        "    h = sigmoid(X.dot(theta.T))\n",
        "    \n",
        "    temp = theta\n",
        "    temp[0] = 0\n",
        "    \n",
        "    J = (1 / m) * np.sum(-y.dot(np.log(h+epzilon)) - (1 - y).dot(np.log(1 - h+epzilon))) + (lambda_ / (2 * m)) * np.sum(np.square(temp))\n",
        "    \n",
        "    grad = (1 / m) * (h - y).dot(X) \n",
        "    grad = grad + (lambda_ / m) * temp\n",
        "\n",
        "    return J, grad"
      ]
    },
    {
      "cell_type": "code",
      "execution_count": 434,
      "metadata": {
        "colab": {
          "base_uri": "https://localhost:8080/"
        },
        "id": "U-_KjKwoosg5",
        "outputId": "6573b415-d8e9-44a2-9cca-1fb14d922bd8"
      },
      "outputs": [
        {
          "output_type": "stream",
          "name": "stdout",
          "text": [
            "Costo         : 2.534795\n",
            "Costo esperadot: 2.534819\n",
            "-----------------------\n",
            "Gradientes:\n",
            " [0.146561, -0.548558, 0.724722, 1.398003]\n",
            "Gradientes esperados:\n",
            " [0.146561, -0.548558, 0.724722, 1.398003]\n"
          ]
        }
      ],
      "source": [
        "J, grad = lrCostFunction(theta_t, X_t, y_t, lambda_t)\n",
        "\n",
        "print('Costo         : {:.6f}'.format(J))\n",
        "print('Costo esperadot: 2.534819')\n",
        "print('-----------------------')\n",
        "print('Gradientes:')\n",
        "print(' [{:.6f}, {:.6f}, {:.6f}, {:.6f}]'.format(*grad))\n",
        "print('Gradientes esperados:')\n",
        "print(' [0.146561, -0.548558, 0.724722, 1.398003]');"
      ]
    },
    {
      "cell_type": "markdown",
      "metadata": {
        "id": "Zybf4IyHosg5"
      },
      "source": [
        "<a id=\"section2\"></a>\n",
        "### 1.4 Clasificacion One-vs-all\n",
        "En esta parte del ejercicio, se implementará la clasificación de uno contra todos mediante el entrenamiento de múltiples clasificadores de regresión logística regularizados, uno para cada una de las clases $K$ en nuestro conjunto de datos. En el conjunto de datos de dígitos escritos a mano, $K = 10$, pero su código debería funcionar para cualquier valor de $K$.\n",
        "\n",
        "El argumento `y` de esta función es un vector de etiquetas de 0 a 9. Al entrenar el clasificador para la clase $k \\in \\{0, ..., K-1 \\} $, querrá un vector K-dimensional de etiquetas $y$, donde $y_j \\ in 0, 1$ indica si la instancia de entrenamiento $j ^ {th}$ pertenece a la clase $k$ $(y_j = 1)$, o si pertenece a una clase diferente $(y_j = 0)$.\n",
        "\n",
        "Además, se utiliza `optimize.minimize` de scipy para este ejercicio.\n",
        "<a id=\"oneVsAll\"></a>"
      ]
    },
    {
      "cell_type": "code",
      "execution_count": 435,
      "metadata": {
        "id": "C7wvdnOAosg5"
      },
      "outputs": [],
      "source": [
        "def oneVsAll(X, y, num_labels, lambda_):\n",
        "    \"\"\"\n",
        "    Trains num_labels logistic regression classifiers and returns\n",
        "    each of these classifiers in a matrix all_theta, where the i-th\n",
        "    row of all_theta corresponds to the classifier for label i.\n",
        "    \n",
        "    Parameters\n",
        "    ----------\n",
        "    X : array_like\n",
        "        The input dataset of shape (m x n). m is the number of \n",
        "        data points, and n is the number of features. Note that we \n",
        "        do not assume that the intercept term (or bias) is in X, however\n",
        "        we provide the code below to add the bias term to X. \n",
        "    \n",
        "    y : array_like\n",
        "        The data labels. A vector of shape (m, ).\n",
        "    \n",
        "    num_labels : int\n",
        "        Number of possible labels.\n",
        "    \n",
        "    lambda_ : float\n",
        "        The logistic regularization parameter.\n",
        "    \n",
        "    Returns\n",
        "    -------\n",
        "    all_theta : array_like\n",
        "        The trained parameters for logistic regression for each class.\n",
        "        This is a matrix of shape (K x n+1) where K is number of classes\n",
        "        (ie. `numlabels`) and n is number of features without the bias.\n",
        "    \"\"\"\n",
        "    # algunas variables utiles\n",
        "    m, n = X.shape\n",
        "    \n",
        "    all_theta = np.zeros((num_labels, n + 1))\n",
        "\n",
        "    # Agrega unos a la matriz X\n",
        "    X = np.concatenate([np.ones((m, 1)), X], axis=1)\n",
        "\n",
        "    for c in np.arange(num_labels):\n",
        "        initial_theta = np.zeros(n + 1)\n",
        "        options = {'maxiter': 2000}\n",
        "        res = optimize.minimize(lrCostFunction, \n",
        "                                initial_theta, \n",
        "                                (X, (y == c), lambda_), \n",
        "                                jac=True, \n",
        "                                method='CG',\n",
        "                                options=options) \n",
        "        \n",
        "        all_theta[c] = res.x\n",
        "\n",
        "    return all_theta"
      ]
    },
    {
      "cell_type": "code",
      "execution_count": 441,
      "metadata": {
        "colab": {
          "base_uri": "https://localhost:8080/"
        },
        "id": "UcfP-MJUosg5",
        "outputId": "81e8a726-c121-4985-e0e2-0efcd13456b4"
      },
      "outputs": [
        {
          "output_type": "stream",
          "name": "stdout",
          "text": [
            "(4, 10)\n"
          ]
        },
        {
          "output_type": "execute_result",
          "data": {
            "text/plain": [
              "array([[ 1.99514796e+00, -3.92364165e-01, -5.57316711e-01,\n",
              "        -3.59000193e-02, -1.16136854e+00, -1.17784992e-01,\n",
              "         3.43044754e-02, -5.62388003e-01,  2.72638216e-02,\n",
              "        -2.08136353e-02],\n",
              "       [-6.88277066e-01, -1.16022737e-03,  8.51720351e-02,\n",
              "         4.71258705e-03, -1.69311150e-01,  3.96831232e-02,\n",
              "         2.29622743e-02, -3.00761646e-01, -2.26523729e-01,\n",
              "        -1.82104761e-02],\n",
              "       [-2.29008210e+00,  1.57928074e-01,  3.83358277e-01,\n",
              "         9.76067671e-03,  3.30888096e-01,  5.02190798e-02,\n",
              "        -2.25924306e-02,  1.37783824e-01, -3.51532027e-02,\n",
              "         1.89760761e-02],\n",
              "       [-3.90461477e+00,  1.82619942e-01,  4.49769003e-01,\n",
              "         1.30842149e-02,  1.17871680e+00,  7.32746920e-02,\n",
              "        -2.96344903e-02,  3.98304135e-01,  1.85812215e-01,\n",
              "         8.16980342e-03]])"
            ]
          },
          "metadata": {},
          "execution_count": 441
        }
      ],
      "source": [
        "lambda_ = 0.001 #modificamos para tratar de encontrar el mejor costo y las mejores thetas \n",
        "all_theta = oneVsAll(X, y, num_labels, lambda_)\n",
        "print(all_theta.shape)\n",
        "all_theta"
      ]
    },
    {
      "cell_type": "markdown",
      "metadata": {
        "id": "whgqTtfoosg5"
      },
      "source": [
        "<a id=\"section3\"></a>\n",
        "#### 1.4.1 Prediccion One-vs-all\n",
        "\n",
        "Después de entrenar el clasificador de one-vs-all, se puede usarlo para predecir el dígito contenido en una imagen determinada. Para cada entrada, debe calcular la \"probabilidad\" de que pertenezca a cada clase utilizando los clasificadores de regresión logística entrenados. La función de predicción one-vs-all seleccionará la clase para la cual el clasificador de regresión logística correspondiente genera la probabilidad más alta y devolverá la etiqueta de clase (0, 1, ..., K-1) como la predicción para el ejemplo de entrada."
      ]
    },
    {
      "cell_type": "code",
      "execution_count": 437,
      "metadata": {
        "id": "QqLXTZk5osg5"
      },
      "outputs": [],
      "source": [
        "def predictOneVsAll(all_theta, X):\n",
        "    \"\"\"\n",
        "    Devuelve un vector de predicciones para cada ejemplo en la matriz X.\n",
        "    Tenga en cuenta que X contiene los ejemplos en filas. \n",
        "    all_theta es una matriz donde la i-ésima fila es un vector theta de regresión logística entrenada para la i-ésima clase. \n",
        "    Debe establecer p en un vector de valores de 0..K-1 (por ejemplo, p = [0, 2, 0, 1] \n",
        "    predice clases 0, 2, 0, 1 para 4 ejemplos).\n",
        "    \n",
        "    Parametros\n",
        "    ----------\n",
        "    all_theta : array_like\n",
        "        The trained parameters for logistic regression for each class.\n",
        "        This is a matrix of shape (K x n+1) where K is number of classes\n",
        "        and n is number of features without the bias.\n",
        "    \n",
        "    X : array_like\n",
        "        Data points to predict their labels. This is a matrix of shape \n",
        "        (m x n) where m is number of data points to predict, and n is number \n",
        "        of features without the bias term. Note we add the bias term for X in \n",
        "        this function. \n",
        "    \n",
        "    Devuelve\n",
        "    -------\n",
        "    p : array_like\n",
        "        The predictions for each data point in X. This is a vector of shape (m, ).\n",
        "    \"\"\"\n",
        "    \n",
        "    m = X.shape[0];\n",
        "    num_labels = all_theta.shape[0]\n",
        "\n",
        "    p = np.zeros(m)\n",
        "\n",
        "    # Add ones to the X data matrix\n",
        "    X = np.concatenate([np.ones((m, 1)), X], axis=1)\n",
        "    p = np.argmax(sigmoid(X.dot(all_theta.T)), axis = 1)\n",
        "\n",
        "    return p"
      ]
    },
    {
      "cell_type": "markdown",
      "metadata": {
        "id": "lcTYl7RAosg5"
      },
      "source": [
        "Una vez que haya terminado, se llama a la función `predictOneVsAll` usando el valor aprendido de $\\theta$. Debería apreciarse que la precisión del conjunto de entrenamiento es de aproximadamente 95,1% (es decir, clasifica correctamente el 95,1% de los ejemplos del conjunto de entrenamiento)."
      ]
    },
    {
      "cell_type": "code",
      "execution_count": 438,
      "metadata": {
        "colab": {
          "base_uri": "https://localhost:8080/"
        },
        "id": "C9Wiwspnosg6",
        "outputId": "745e168e-ffc3-4fac-8c18-50c8cb1fc664"
      },
      "outputs": [
        {
          "output_type": "stream",
          "name": "stdout",
          "text": [
            "(6000, 9)\n",
            "Precision del conjuto de entrenamiento: 45.73%\n",
            "(1, 9)\n",
            "[[ 0.  2. 20.  0.  8.  3.  0.  2.  3.]]\n",
            "(1, 10)\n",
            "la clases p es=  [1]\n"
          ]
        }
      ],
      "source": [
        "print(X.shape)\n",
        "pred = predictOneVsAll(all_theta, X)\n",
        "print('Precision del conjuto de entrenamiento: {:.2f}%'.format(np.mean(pred == y) * 100))\n",
        "XPrueba = X[5000:5001, :].copy()\n",
        "print(XPrueba.shape)\n",
        "#print(np.ones((1)))\n",
        "print(XPrueba)\n",
        "#p = np.zeros(1)\n",
        "XPrueba = np.concatenate([np.ones((1, 1)), XPrueba], axis=1)\n",
        "print(XPrueba.shape)\n",
        "p = np.argmax(sigmoid(XPrueba.dot(all_theta.T)), axis = 1)\n",
        "print('la clases p es= ',p)\n",
        "\n",
        "#displayData(X[4002:4003, :])"
      ]
    },
    {
      "cell_type": "markdown",
      "source": [
        "array([[ 1.99514796e+00, -3.92364165e-01, -5.57316711e-01,\n",
        "        -3.59000193e-02, -1.16136854e+00, -1.17784992e-01,\n",
        "         3.43044754e-02, -5.62388003e-01,  2.72638216e-02,\n",
        "        -2.08136353e-02],\n",
        "       [-6.88277066e-01, -1.16022737e-03,  8.51720351e-02,\n",
        "         4.71258705e-03, -1.69311150e-01,  3.96831232e-02,\n",
        "         2.29622743e-02, -3.00761646e-01, -2.26523729e-01,\n",
        "        -1.82104761e-02],\n",
        "       [-2.29008210e+00,  1.57928074e-01,  3.83358277e-01,\n",
        "         9.76067671e-03,  3.30888096e-01,  5.02190798e-02,\n",
        "        -2.25924306e-02,  1.37783824e-01, -3.51532027e-02,\n",
        "         1.89760761e-02],\n",
        "       [-3.90461477e+00,  1.82619942e-01,  4.49769003e-01,\n",
        "         1.30842149e-02,  1.17871680e+00,  7.32746920e-02,\n",
        "        -2.96344903e-02,  3.98304135e-01,  1.85812215e-01,\n",
        "         8.16980342e-03]])\n",
        "\n",
        "Son las mejores thetas que se pudo encontrar para una corrida de 6000 muestras"
      ],
      "metadata": {
        "id": "gVapiclGOVxi"
      }
    }
  ],
  "metadata": {
    "kernelspec": {
      "display_name": "Python 3",
      "language": "python",
      "name": "python3"
    },
    "language_info": {
      "codemirror_mode": {
        "name": "ipython",
        "version": 3
      },
      "file_extension": ".py",
      "mimetype": "text/x-python",
      "name": "python",
      "nbconvert_exporter": "python",
      "pygments_lexer": "ipython3",
      "version": "3.8.8"
    },
    "colab": {
      "provenance": [],
      "include_colab_link": true
    }
  },
  "nbformat": 4,
  "nbformat_minor": 0
}