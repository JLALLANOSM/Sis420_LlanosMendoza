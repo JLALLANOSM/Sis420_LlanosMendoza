{
  "nbformat": 4,
  "nbformat_minor": 0,
  "metadata": {
    "colab": {
      "provenance": [],
      "authorship_tag": "ABX9TyPSjawTbR0lghvhdVF9/x37",
      "include_colab_link": true
    },
    "kernelspec": {
      "name": "python3",
      "display_name": "Python 3"
    },
    "language_info": {
      "name": "python"
    }
  },
  "cells": [
    {
      "cell_type": "markdown",
      "metadata": {
        "id": "view-in-github",
        "colab_type": "text"
      },
      "source": [
        "<a href=\"https://colab.research.google.com/github/JLALLANOSM/Sis420_LlanosMendoza/blob/main/LAB3/LAB3.ipynb\" target=\"_parent\"><img src=\"https://colab.research.google.com/assets/colab-badge.svg\" alt=\"Open In Colab\"/></a>"
      ]
    },
    {
      "cell_type": "code",
      "execution_count": 8,
      "metadata": {
        "colab": {
          "base_uri": "https://localhost:8080/"
        },
        "id": "xUYMeEbN2e_P",
        "outputId": "f0a1fbb0-5306-49e6-9a61-d05f5e751f58"
      },
      "outputs": [
        {
          "output_type": "stream",
          "name": "stdout",
          "text": [
            "[[12, 11, 10, 9, 8, 7, 6, 5, 4, 3, 2, 1], [12, 11, 10, 9, 8, 6, 7, 5, 4, 3, 2, 1], [12, 11, 10, 9, 6, 8, 7, 5, 4, 3, 2, 1], [12, 11, 10, 9, 6, 7, 8, 5, 4, 3, 2, 1], [12, 11, 10, 9, 6, 7, 5, 8, 4, 3, 2, 1], [12, 11, 10, 9, 6, 5, 7, 8, 4, 3, 2, 1], [12, 11, 10, 9, 5, 6, 7, 8, 4, 3, 2, 1], [12, 11, 10, 5, 9, 6, 7, 8, 4, 3, 2, 1], [12, 11, 10, 5, 6, 9, 7, 8, 4, 3, 2, 1], [12, 11, 10, 5, 6, 7, 9, 8, 4, 3, 2, 1], [12, 11, 10, 5, 6, 7, 8, 9, 4, 3, 2, 1], [12, 11, 10, 5, 6, 7, 8, 4, 9, 3, 2, 1], [12, 11, 10, 5, 6, 7, 4, 8, 9, 3, 2, 1], [12, 11, 10, 5, 6, 4, 7, 8, 9, 3, 2, 1], [12, 11, 10, 5, 4, 6, 7, 8, 9, 3, 2, 1], [12, 11, 10, 4, 5, 6, 7, 8, 9, 3, 2, 1], [12, 11, 4, 10, 5, 6, 7, 8, 9, 3, 2, 1], [12, 11, 4, 5, 10, 6, 7, 8, 9, 3, 2, 1], [12, 11, 4, 5, 6, 10, 7, 8, 9, 3, 2, 1], [12, 11, 4, 5, 6, 7, 10, 8, 9, 3, 2, 1], [12, 11, 4, 5, 6, 7, 8, 10, 9, 3, 2, 1], [12, 11, 4, 5, 6, 7, 8, 9, 10, 3, 2, 1], [12, 11, 4, 5, 6, 7, 8, 9, 3, 10, 2, 1], [12, 11, 4, 5, 6, 7, 8, 3, 9, 10, 2, 1], [12, 11, 4, 5, 6, 7, 3, 8, 9, 10, 2, 1], [12, 11, 4, 5, 6, 3, 7, 8, 9, 10, 2, 1], [12, 11, 4, 5, 3, 6, 7, 8, 9, 10, 2, 1], [12, 11, 4, 3, 5, 6, 7, 8, 9, 10, 2, 1], [12, 11, 3, 4, 5, 6, 7, 8, 9, 10, 2, 1], [12, 3, 11, 4, 5, 6, 7, 8, 9, 10, 2, 1], [12, 3, 4, 11, 5, 6, 7, 8, 9, 10, 2, 1], [12, 3, 4, 5, 11, 6, 7, 8, 9, 10, 2, 1], [12, 3, 4, 5, 6, 11, 7, 8, 9, 10, 2, 1], [12, 3, 4, 5, 6, 7, 11, 8, 9, 10, 2, 1], [12, 3, 4, 5, 6, 7, 8, 11, 9, 10, 2, 1], [12, 3, 4, 5, 6, 7, 8, 9, 11, 10, 2, 1], [12, 3, 4, 5, 6, 7, 8, 9, 10, 11, 2, 1], [12, 3, 4, 5, 6, 7, 8, 9, 10, 2, 11, 1], [12, 3, 4, 5, 6, 7, 8, 9, 2, 10, 11, 1], [12, 3, 4, 5, 6, 7, 8, 2, 9, 10, 11, 1], [12, 3, 4, 5, 6, 7, 2, 8, 9, 10, 11, 1], [12, 3, 4, 5, 6, 2, 7, 8, 9, 10, 11, 1], [12, 3, 4, 5, 2, 6, 7, 8, 9, 10, 11, 1], [12, 3, 4, 2, 5, 6, 7, 8, 9, 10, 11, 1], [12, 3, 2, 4, 5, 6, 7, 8, 9, 10, 11, 1], [12, 2, 3, 4, 5, 6, 7, 8, 9, 10, 11, 1], [2, 12, 3, 4, 5, 6, 7, 8, 9, 10, 11, 1], [2, 3, 12, 4, 5, 6, 7, 8, 9, 10, 11, 1], [2, 3, 4, 12, 5, 6, 7, 8, 9, 10, 11, 1], [2, 3, 4, 5, 12, 6, 7, 8, 9, 10, 11, 1], [2, 3, 4, 5, 6, 12, 7, 8, 9, 10, 11, 1], [2, 3, 4, 5, 6, 7, 12, 8, 9, 10, 11, 1], [2, 3, 4, 5, 6, 7, 8, 12, 9, 10, 11, 1], [2, 3, 4, 5, 6, 7, 8, 9, 12, 10, 11, 1], [2, 3, 4, 5, 6, 7, 8, 9, 10, 12, 11, 1], [2, 3, 4, 5, 6, 7, 8, 9, 10, 11, 12, 1], [2, 3, 4, 5, 6, 7, 8, 9, 10, 11, 1, 12], [2, 3, 4, 5, 6, 7, 8, 9, 10, 1, 11, 12], [2, 3, 4, 5, 6, 7, 8, 9, 1, 10, 11, 12], [2, 3, 4, 5, 6, 7, 8, 1, 9, 10, 11, 12], [2, 3, 4, 5, 6, 7, 1, 8, 9, 10, 11, 12], [2, 3, 4, 5, 6, 1, 7, 8, 9, 10, 11, 12], [2, 3, 4, 5, 1, 6, 7, 8, 9, 10, 11, 12], [2, 3, 4, 1, 5, 6, 7, 8, 9, 10, 11, 12], [2, 3, 1, 4, 5, 6, 7, 8, 9, 10, 11, 12], [2, 1, 3, 4, 5, 6, 7, 8, 9, 10, 11, 12], [1, 2, 3, 4, 5, 6, 7, 8, 9, 10, 11, 12]]\n",
            "Tiempo de Ejecucion: 164.363272190094 segundos\n"
          ]
        }
      ],
      "source": [
        "class Nodo:\n",
        "    def __init__(self, estado, padre=None):\n",
        "        self.estado = estado\n",
        "        self.padre = padre\n",
        "        self.hijos = []\n",
        "\n",
        "    def get_estado(self):\n",
        "        return self.estado\n",
        "\n",
        "    def get_padre(self):\n",
        "        return self.padre\n",
        "\n",
        "    def set_hijo(self, hijo):\n",
        "        self.hijos.append(hijo)\n",
        "\n",
        "    def en_lista(self, lista_nodos):\n",
        "        for nodo in lista_nodos:\n",
        "            if self.estado == nodo.get_estado():\n",
        "                return True\n",
        "        return False\n",
        "\n",
        "    def calcular_heuristica(self, solucion):\n",
        "        heuristica = 0\n",
        "        for i in range(len(self.estado)):\n",
        "            if self.estado[i] != solucion[i]:\n",
        "                heuristica += abs(self.estado[i] - solucion[i])\n",
        "        return heuristica\n",
        "\n",
        "\n",
        "def busqueda_BPA_solucion(estado_inicial, solucion):\n",
        "    resuelto = False\n",
        "    nodos_visitados = []\n",
        "    nodos_frontera = []\n",
        "\n",
        "    nodo_raiz = Nodo(estado_inicial)\n",
        "    nodos_frontera.append(nodo_raiz)\n",
        "    while not resuelto and len(nodos_frontera) != 0:\n",
        "        nodo_actual = nodos_frontera.pop(0)\n",
        "        nodos_visitados.append(nodo_actual)\n",
        "        if nodo_actual.get_estado() == solucion:\n",
        "            resuelto = True\n",
        "            return nodo_actual\n",
        "        else:\n",
        "            estado_nodo = nodo_actual.get_estado()\n",
        "            hijo = estado_nodo.copy()\n",
        "            hijos = []\n",
        "            for i in range(len(hijo) - 1):\n",
        "                hijo[i], hijo[i + 1] = hijo[i + 1], hijo[i]\n",
        "                hijos.append(Nodo(hijo, padre=nodo_actual))\n",
        "                if not hijos[i].en_lista(nodos_visitados) and not hijos[i].en_lista(nodos_frontera):\n",
        "                    nodos_frontera.append(hijos[i])\n",
        "                hijo = estado_nodo.copy()\n",
        "\n",
        "            nodo_actual.set_hijo(hijos)\n",
        "            nodos_frontera.sort(key=lambda x: x.calcular_heuristica(solucion))\n",
        "\n",
        "import time\n",
        "if __name__ == \"__main__\":\n",
        "    estado_inicial = [12, 11, 10, 9, 8, 7, 6, 5, 4, 3, 2, 1]\n",
        "    solucion = [1, 2, 3, 4, 5, 6, 7, 8, 9, 10, 11, 12]\n",
        "    start_time = time.time()\n",
        "    nodo_solucion = busqueda_BPA_solucion(estado_inicial, solucion)\n",
        "    resultado = []\n",
        "    nodo_actual = nodo_solucion\n",
        "    while nodo_actual.get_padre() is not None:\n",
        "        resultado.append(nodo_actual.get_estado())\n",
        "        nodo_actual = nodo_actual.get_padre()\n",
        "\n",
        "    resultado.append(estado_inicial)\n",
        "    resultado.reverse()\n",
        "    print(resultado)\n",
        "    end_time = time.time()  # Get the current time after executing the code\n",
        "\n",
        "    execution_time = end_time - start_time  # Calculate the execution time\n",
        "\n",
        "    print(\"Tiempo de Ejecucion:\", execution_time, \"segundos\")\n"
      ]
    },
    {
      "cell_type": "code",
      "source": [],
      "metadata": {
        "id": "mcFiFKFA2mx7"
      },
      "execution_count": null,
      "outputs": []
    }
  ]
}