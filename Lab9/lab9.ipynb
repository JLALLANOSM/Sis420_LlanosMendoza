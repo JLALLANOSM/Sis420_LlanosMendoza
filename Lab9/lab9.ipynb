{
  "cells": [
    {
      "cell_type": "markdown",
      "metadata": {
        "id": "view-in-github",
        "colab_type": "text"
      },
      "source": [
        "<a href=\"https://colab.research.google.com/github/JLALLANOSM/Sis420_LlanosMendoza/blob/main/Lab9/lab9\" target=\"_parent\"><img src=\"https://colab.research.google.com/assets/colab-badge.svg\" alt=\"Open In Colab\"/></a>"
      ]
    },
    {
      "cell_type": "markdown",
      "metadata": {
        "id": "fxYd72KmVn8x"
      },
      "source": [
        "# Ejercicio de programación Regresión Lineal Multiple"
      ]
    },
    {
      "cell_type": "code",
      "execution_count": 87,
      "metadata": {
        "id": "-NQwq_hsVn80"
      },
      "outputs": [],
      "source": [
        "# utilizado para manejos de directorios y rutas\n",
        "import os\n",
        "\n",
        "# Computacion vectorial y cientifica para python\n",
        "import numpy as np\n",
        "\n",
        "# Librerias para graficación (trazado de gráficos)\n",
        "from matplotlib import pyplot\n",
        "from mpl_toolkits.mplot3d import Axes3D  # Necesario para graficar superficies 3D\n",
        "\n",
        "# llama a matplotlib a embeber graficas dentro de los cuadernillos\n",
        "%matplotlib inline"
      ]
    },
    {
      "cell_type": "markdown",
      "metadata": {
        "id": "dl4y9LL2Vn81"
      },
      "source": [
        "## 2 Regresión lineal con multiples variables\n",
        "\n",
        "Se implementa la regresion lineal multivariable para predecir el precio de las casas. El archivo `Datasets/ex1data2.txt` contiene un conjunto de entrenamiento de precios de casas en Portland, Oregon. La primera columna es el tamaño de la casa en metros cuadrados, la segunda columna es el numero de cuartos, y la tercera columna es el precio de la casa. \n",
        "\n",
        "<a id=\"section4\"></a>\n",
        "### 2.1 Normalización de caracteristicas\n",
        "\n",
        "Al visualizar los datos se puede observar que las caracteristicas tienen diferentes magnitudes, por lo cual se debe transformar cada valor en una escala de valores similares, esto con el fin de que el descenso por el gradiente pueda converger mas rapidamente."
      ]
    },
    {
      "cell_type": "code",
      "source": [
        "from google.colab import drive\n",
        "drive.mount('/content/drive')"
      ],
      "metadata": {
        "colab": {
          "base_uri": "https://localhost:8080/"
        },
        "id": "1MmuovO0q6QH",
        "outputId": "3611cc80-e628-4162-86f5-8231975a183a"
      },
      "execution_count": 88,
      "outputs": [
        {
          "output_type": "stream",
          "name": "stdout",
          "text": [
            "Drive already mounted at /content/drive; to attempt to forcibly remount, call drive.mount(\"/content/drive\", force_remount=True).\n"
          ]
        }
      ]
    },
    {
      "cell_type": "code",
      "execution_count": 89,
      "metadata": {
        "colab": {
          "base_uri": "https://localhost:8080/"
        },
        "id": "IzvXlXHMVn81",
        "outputId": "199dfb1d-27d8-4086-e0ab-709130d0c376"
      },
      "outputs": [
        {
          "output_type": "stream",
          "name": "stdout",
          "text": [
            "-------------\n",
            "  X[:,0] X[:, 1] X[:, 2]         y\n",
            "------------------------------------\n",
            "      34       0       3  400000\n",
            "      52       2       3  410000\n",
            "     140      50       5 1950000\n",
            "      32       6       2  305500\n",
            "      33       5       2  365000\n",
            "      30       3       2  350000\n",
            "      33       2       2  290000\n",
            "      50       5       3  529000\n",
            "      50       2       3  500000\n",
            "      47       7       3  460000\n",
            "      42       3       3  470000\n",
            "      56       2       3  475000\n",
            "      55       6       3  450000\n",
            "      31       5       2  370000\n",
            "      39       0       2  405000\n",
            "      32       2       2  330000\n",
            "      36       2       2  350000\n",
            "      45       0       1  415000\n",
            "      36       7       3  340000\n",
            "      40       3       3  350000\n",
            "      46       3       3  420000\n",
            "      59      11       3  758000\n",
            "      32       4       2  390000\n",
            "      47       1       3  410000\n",
            "      47       3       3  400000\n",
            "      45       3       3  435000\n",
            "      46       4       1  420000\n",
            "      36       3       2  300000\n",
            "      35       5       1  320000\n",
            "      34       2       2  370000\n",
            "      31       4       2  300000\n",
            "      41       7       3  430000\n",
            "      42       3       3  430000\n",
            "      34       2       2  280000\n",
            "      39       6       3  385000\n",
            "      51       3       3  390000\n",
            "      26       4       1  268000\n",
            "      58       5       3  588000\n",
            "      39       7       3  450000\n",
            "      42       2       3  400000\n",
            "      42       3       3  395000\n",
            "      47       3       0  418500\n",
            "      37       3       2  370000\n",
            "      47       4       3  425000\n",
            "      32       2       2  290000\n",
            "      30       0       2  310000\n",
            "      48       2       0  470000\n",
            "      45       3       3  405000\n",
            "      22       0       1  220000\n",
            "      42       3       3  480000\n"
          ]
        }
      ],
      "source": [
        "# Cargar datos\n",
        "# data = np.loadtxt(os.path.join('Datasets', 'ex1data2.txt'), delimiter=',')\n",
        "data = np.loadtxt('/content/drive/MyDrive/datasets/AlquilerPrecio.txt', delimiter=',')\n",
        "X = data[:100, 4:7]\n",
        "y = data[:100, 2]\n",
        "m = y.size\n",
        "\n",
        "print('-------------')\n",
        "# imprimir algunos puntos de datos\n",
        "print('{:>8s}{:>8s}{:>8s}{:>10s}'.format('X[:,0]', 'X[:, 1]','X[:, 2]', 'y'))\n",
        "print('-'*36)\n",
        "for i in range(50):\n",
        "    print('{:8.0f}{:8.0f}{:8.0f}{:8.0f}'.format(X[i, 0], X[i, 1], X[i, 2], y[i]))"
      ]
    },
    {
      "cell_type": "markdown",
      "metadata": {
        "id": "pP-oF-Y8W3zp"
      },
      "source": [
        "## 2 Regresión lineal con multiples variables\n",
        "\n",
        "Se implementa la regresion lineal multivariable para predecir el precio de las casas. El archivo `Datasets/ex1data2.txt` contiene un conjunto de entrenamiento de precios de casas en Portland, Oregon. La primera columna es el tamaño de la casa en metros cuadrados, la segunda columna es el numero de cuartos, y la tercera columna es el precio de la casa. \n",
        "\n",
        "<a id=\"section4\"></a>\n",
        "### 2.1 Normalización de caracteristicas\n",
        "\n",
        "Al visualizar los datos se puede observar que las caracteristicas tienen diferentes magnitudes, por lo cual se debe transformar cada valor en una escala de valores similares, esto con el fin de que el descenso por el gradiente pueda converger mas rapidamente."
      ]
    },
    {
      "cell_type": "markdown",
      "metadata": {
        "id": "Lr8JRNkyVn82"
      },
      "source": [
        "La desviación estándar es una forma de medir cuánta variación hay en el rango de valores de una característica en particular (la mayoría de los puntos caeran en un rango de ± 2 en relación a la desviaciones estándar de la media); esta es una alternativa a tomar el rango de valores (max-min). En `numpy`, se puede usar la función `std` para calcular la desviacion estandar. \n",
        "\n",
        "Por ejemplo, la caracteristica`X[:, 0]` contiene todos los valores de $x_1$ (tamaño de las casas) en el conjunto de entrenamiento, entonces `np.std(X[:, 0])` calcula la desviacion estandar de los tamaños de las casas.\n",
        "En el momento en que se llama a la función `featureNormalize`, la columna adicional de unos correspondiente a $ x_0 = 1 $ aún no se ha agregado a $ X $. \n",
        "\n",
        "<div class=\"alert alert-block alert-warning\">\n",
        "**Notas para la implementación:** Cuando se normalize una caracteristica, es importante almacenar los valores usados para la normalización - el valor de la media y el valor de la desviación estandar usado para los calculos. Despues de aprender los parametros del modelo, se deseara predecir los precios de casas que no se han visto antes. Dado un nuevo valor de x (area del living room y el numero de dormitorios), primero se debe normalizar x usando la media y la desviacion estandar que se empleo anteriormente en el conjunto de entrenamiento para entrenar el modelo.\n",
        "</div>\n",
        "<a id=\"featureNormalize\"></a>"
      ]
    },
    {
      "cell_type": "code",
      "execution_count": 90,
      "metadata": {
        "id": "dgT4rR9iVn82"
      },
      "outputs": [],
      "source": [
        "def  featureNormalize(X):\n",
        "    X_norm = X.copy()\n",
        "    mu = np.zeros(X.shape[0])\n",
        "    sigma = np.zeros(X.shape[0])\n",
        "\n",
        "    mu = np.mean(X, axis = 0)\n",
        "    sigma = np.std(X, axis = 0)\n",
        "    X_norm = (X - mu) / sigma\n",
        "    \n",
        "    return X_norm, mu, sigma"
      ]
    },
    {
      "cell_type": "code",
      "execution_count": 91,
      "metadata": {
        "colab": {
          "base_uri": "https://localhost:8080/"
        },
        "id": "MfiaMoWEVn82",
        "outputId": "35a9a5e5-c431-4941-bcbc-11f8de445860"
      },
      "outputs": [
        {
          "output_type": "stream",
          "name": "stdout",
          "text": [
            "[[ 34.   0.   3.]\n",
            " [ 52.   2.   3.]\n",
            " [140.  50.   5.]\n",
            " [ 32.   6.   2.]\n",
            " [ 33.   5.   2.]\n",
            " [ 30.   3.   2.]\n",
            " [ 33.   2.   2.]\n",
            " [ 50.   5.   3.]\n",
            " [ 50.   2.   3.]\n",
            " [ 47.   7.   3.]\n",
            " [ 42.   3.   3.]\n",
            " [ 56.   2.   3.]\n",
            " [ 55.   6.   3.]\n",
            " [ 31.   5.   2.]\n",
            " [ 39.   0.   2.]\n",
            " [ 32.   2.   2.]\n",
            " [ 36.   2.   2.]\n",
            " [ 45.   0.   1.]\n",
            " [ 36.   7.   3.]\n",
            " [ 40.   3.   3.]\n",
            " [ 46.   3.   3.]\n",
            " [ 59.  11.   3.]\n",
            " [ 32.   4.   2.]\n",
            " [ 47.   1.   3.]\n",
            " [ 47.   3.   3.]\n",
            " [ 45.   3.   3.]\n",
            " [ 46.   4.   1.]\n",
            " [ 36.   3.   2.]\n",
            " [ 35.   5.   1.]\n",
            " [ 34.   2.   2.]\n",
            " [ 31.   4.   2.]\n",
            " [ 41.   7.   3.]\n",
            " [ 42.   3.   3.]\n",
            " [ 34.   2.   2.]\n",
            " [ 39.   6.   3.]\n",
            " [ 51.   3.   3.]\n",
            " [ 26.   4.   1.]\n",
            " [ 58.   5.   3.]\n",
            " [ 39.   7.   3.]\n",
            " [ 42.   2.   3.]\n",
            " [ 42.   3.   3.]\n",
            " [ 47.   3.   0.]\n",
            " [ 37.   3.   2.]\n",
            " [ 47.   4.   3.]\n",
            " [ 32.   2.   2.]\n",
            " [ 30.   0.   2.]\n",
            " [ 48.   2.   0.]\n",
            " [ 45.   3.   3.]\n",
            " [ 22.   0.   1.]\n",
            " [ 42.   3.   3.]\n",
            " [ 42.   3.   3.]\n",
            " [ 34.   2.   2.]\n",
            " [ 45. 297.   3.]\n",
            " [ 32.   2.   2.]\n",
            " [ 34.   0.   2.]\n",
            " [ 31.   5.   2.]\n",
            " [ 35.   0.   0.]\n",
            " [ 30.   6.   2.]\n",
            " [ 34.   2.   2.]\n",
            " [ 33.   3.   2.]\n",
            " [ 32.   2.   2.]\n",
            " [ 31.   2.   2.]\n",
            " [ 24.   2.   2.]\n",
            " [ 35.   0.   0.]\n",
            " [ 35.   3.   2.]\n",
            " [ 33.   3.   2.]\n",
            " [ 44.   3.   3.]\n",
            " [ 43.   3.   3.]\n",
            " [ 54.   3.   3.]\n",
            " [ 26.   5.   2.]\n",
            " [ 43.   3.   3.]\n",
            " [ 43.   4.   3.]\n",
            " [ 34.   2.   3.]\n",
            " [ 54.   6.   3.]\n",
            " [ 54.   0.   3.]\n",
            " [ 43.   4.   3.]\n",
            " [ 47.   2.   3.]\n",
            " [ 31.   3.   2.]\n",
            " [ 43.   4.   3.]\n",
            " [ 51.   2.   3.]\n",
            " [ 50.   0.   3.]\n",
            " [ 42.   1.   3.]\n",
            " [ 35.   2.   3.]\n",
            " [ 29.   0.   2.]\n",
            " [ 31.   6.   2.]\n",
            " [ 30.   2.   2.]\n",
            " [ 32.   0.   2.]\n",
            " [ 37.   0.   2.]\n",
            " [ 35.   5.   3.]\n",
            " [ 53.   0.   2.]\n",
            " [ 29.   0.   2.]\n",
            " [ 47.   1.   3.]\n",
            " [ 36.   4.   2.]\n",
            " [ 27.   0.   1.]\n",
            " [ 59.  10.   3.]\n",
            " [ 34.   2.   2.]\n",
            " [ 47.   1.   3.]\n",
            " [ 30.   0.   1.]\n",
            " [ 43.   0.   0.]\n",
            " [ 20.   0.   1.]]\n",
            "Media calculada: [40.31  6.27  2.32]\n",
            "Desviación estandar calculada: [13.27531167 29.67451937  0.85883642]\n",
            "[[-4.75318407e-01 -2.11292386e-01  7.91768936e-01]\n",
            " [ 8.80581962e-01 -1.43894496e-01  7.91768936e-01]\n",
            " [ 7.50942821e+00  1.47365487e+00  3.12050110e+00]\n",
            " [-6.25974004e-01 -9.09871518e-03 -3.72597146e-01]\n",
            " [-5.50646206e-01 -4.27976603e-02 -3.72597146e-01]\n",
            " [-7.76629600e-01 -1.10195551e-01 -3.72597146e-01]\n",
            " [-5.50646206e-01 -1.43894496e-01 -3.72597146e-01]\n",
            " [ 7.29926366e-01 -4.27976603e-02  7.91768936e-01]\n",
            " [ 7.29926366e-01 -1.43894496e-01  7.91768936e-01]\n",
            " [ 5.03942971e-01  2.46002299e-02  7.91768936e-01]\n",
            " [ 1.27303979e-01 -1.10195551e-01  7.91768936e-01]\n",
            " [ 1.18189316e+00 -1.43894496e-01  7.91768936e-01]\n",
            " [ 1.10656536e+00 -9.09871518e-03  7.91768936e-01]\n",
            " [-7.01301802e-01 -4.27976603e-02 -3.72597146e-01]\n",
            " [-9.86794158e-02 -2.11292386e-01 -3.72597146e-01]\n",
            " [-6.25974004e-01 -1.43894496e-01 -3.72597146e-01]\n",
            " [-3.24662811e-01 -1.43894496e-01 -3.72597146e-01]\n",
            " [ 3.53287374e-01 -2.11292386e-01 -1.53696323e+00]\n",
            " [-3.24662811e-01  2.46002299e-02  7.91768936e-01]\n",
            " [-2.33516175e-02 -1.10195551e-01  7.91768936e-01]\n",
            " [ 4.28615172e-01 -1.10195551e-01  7.91768936e-01]\n",
            " [ 1.40787655e+00  1.59396010e-01  7.91768936e-01]\n",
            " [-6.25974004e-01 -7.64966054e-02 -3.72597146e-01]\n",
            " [ 5.03942971e-01 -1.77593441e-01  7.91768936e-01]\n",
            " [ 5.03942971e-01 -1.10195551e-01  7.91768936e-01]\n",
            " [ 3.53287374e-01 -1.10195551e-01  7.91768936e-01]\n",
            " [ 4.28615172e-01 -7.64966054e-02 -1.53696323e+00]\n",
            " [-3.24662811e-01 -1.10195551e-01 -3.72597146e-01]\n",
            " [-3.99990609e-01 -4.27976603e-02 -1.53696323e+00]\n",
            " [-4.75318407e-01 -1.43894496e-01 -3.72597146e-01]\n",
            " [-7.01301802e-01 -7.64966054e-02 -3.72597146e-01]\n",
            " [ 5.19761808e-02  2.46002299e-02  7.91768936e-01]\n",
            " [ 1.27303979e-01 -1.10195551e-01  7.91768936e-01]\n",
            " [-4.75318407e-01 -1.43894496e-01 -3.72597146e-01]\n",
            " [-9.86794158e-02 -9.09871518e-03  7.91768936e-01]\n",
            " [ 8.05254164e-01 -1.10195551e-01  7.91768936e-01]\n",
            " [-1.07794079e+00 -7.64966054e-02 -1.53696323e+00]\n",
            " [ 1.33254875e+00 -4.27976603e-02  7.91768936e-01]\n",
            " [-9.86794158e-02  2.46002299e-02  7.91768936e-01]\n",
            " [ 1.27303979e-01 -1.43894496e-01  7.91768936e-01]\n",
            " [ 1.27303979e-01 -1.10195551e-01  7.91768936e-01]\n",
            " [ 5.03942971e-01 -1.10195551e-01 -2.70132931e+00]\n",
            " [-2.49335012e-01 -1.10195551e-01 -3.72597146e-01]\n",
            " [ 5.03942971e-01 -7.64966054e-02  7.91768936e-01]\n",
            " [-6.25974004e-01 -1.43894496e-01 -3.72597146e-01]\n",
            " [-7.76629600e-01 -2.11292386e-01 -3.72597146e-01]\n",
            " [ 5.79270769e-01 -1.43894496e-01 -2.70132931e+00]\n",
            " [ 3.53287374e-01 -1.10195551e-01  7.91768936e-01]\n",
            " [-1.37925199e+00 -2.11292386e-01 -1.53696323e+00]\n",
            " [ 1.27303979e-01 -1.10195551e-01  7.91768936e-01]\n",
            " [ 1.27303979e-01 -1.10195551e-01  7.91768936e-01]\n",
            " [-4.75318407e-01 -1.43894496e-01 -3.72597146e-01]\n",
            " [ 3.53287374e-01  9.79729432e+00  7.91768936e-01]\n",
            " [-6.25974004e-01 -1.43894496e-01 -3.72597146e-01]\n",
            " [-4.75318407e-01 -2.11292386e-01 -3.72597146e-01]\n",
            " [-7.01301802e-01 -4.27976603e-02 -3.72597146e-01]\n",
            " [-3.99990609e-01 -2.11292386e-01 -2.70132931e+00]\n",
            " [-7.76629600e-01 -9.09871518e-03 -3.72597146e-01]\n",
            " [-4.75318407e-01 -1.43894496e-01 -3.72597146e-01]\n",
            " [-5.50646206e-01 -1.10195551e-01 -3.72597146e-01]\n",
            " [-6.25974004e-01 -1.43894496e-01 -3.72597146e-01]\n",
            " [-7.01301802e-01 -1.43894496e-01 -3.72597146e-01]\n",
            " [-1.22859639e+00 -1.43894496e-01 -3.72597146e-01]\n",
            " [-3.99990609e-01 -2.11292386e-01 -2.70132931e+00]\n",
            " [-3.99990609e-01 -1.10195551e-01 -3.72597146e-01]\n",
            " [-5.50646206e-01 -1.10195551e-01 -3.72597146e-01]\n",
            " [ 2.77959576e-01 -1.10195551e-01  7.91768936e-01]\n",
            " [ 2.02631777e-01 -1.10195551e-01  7.91768936e-01]\n",
            " [ 1.03123756e+00 -1.10195551e-01  7.91768936e-01]\n",
            " [-1.07794079e+00 -4.27976603e-02 -3.72597146e-01]\n",
            " [ 2.02631777e-01 -1.10195551e-01  7.91768936e-01]\n",
            " [ 2.02631777e-01 -7.64966054e-02  7.91768936e-01]\n",
            " [-4.75318407e-01 -1.43894496e-01  7.91768936e-01]\n",
            " [ 1.03123756e+00 -9.09871518e-03  7.91768936e-01]\n",
            " [ 1.03123756e+00 -2.11292386e-01  7.91768936e-01]\n",
            " [ 2.02631777e-01 -7.64966054e-02  7.91768936e-01]\n",
            " [ 5.03942971e-01 -1.43894496e-01  7.91768936e-01]\n",
            " [-7.01301802e-01 -1.10195551e-01 -3.72597146e-01]\n",
            " [ 2.02631777e-01 -7.64966054e-02  7.91768936e-01]\n",
            " [ 8.05254164e-01 -1.43894496e-01  7.91768936e-01]\n",
            " [ 7.29926366e-01 -2.11292386e-01  7.91768936e-01]\n",
            " [ 1.27303979e-01 -1.77593441e-01  7.91768936e-01]\n",
            " [-3.99990609e-01 -1.43894496e-01  7.91768936e-01]\n",
            " [-8.51957399e-01 -2.11292386e-01 -3.72597146e-01]\n",
            " [-7.01301802e-01 -9.09871518e-03 -3.72597146e-01]\n",
            " [-7.76629600e-01 -1.43894496e-01 -3.72597146e-01]\n",
            " [-6.25974004e-01 -2.11292386e-01 -3.72597146e-01]\n",
            " [-2.49335012e-01 -2.11292386e-01 -3.72597146e-01]\n",
            " [-3.99990609e-01 -4.27976603e-02  7.91768936e-01]\n",
            " [ 9.55909760e-01 -2.11292386e-01 -3.72597146e-01]\n",
            " [-8.51957399e-01 -2.11292386e-01 -3.72597146e-01]\n",
            " [ 5.03942971e-01 -1.77593441e-01  7.91768936e-01]\n",
            " [-3.24662811e-01 -7.64966054e-02 -3.72597146e-01]\n",
            " [-1.00261300e+00 -2.11292386e-01 -1.53696323e+00]\n",
            " [ 1.40787655e+00  1.25697065e-01  7.91768936e-01]\n",
            " [-4.75318407e-01 -1.43894496e-01 -3.72597146e-01]\n",
            " [ 5.03942971e-01 -1.77593441e-01  7.91768936e-01]\n",
            " [-7.76629600e-01 -2.11292386e-01 -1.53696323e+00]\n",
            " [ 2.02631777e-01 -2.11292386e-01 -2.70132931e+00]\n",
            " [-1.52990758e+00 -2.11292386e-01 -1.53696323e+00]]\n"
          ]
        }
      ],
      "source": [
        "# llama featureNormalize con los datos cargados\n",
        "X_norm, mu, sigma = featureNormalize(X)\n",
        "\n",
        "print(X)\n",
        "print('Media calculada:', mu)\n",
        "print('Desviación estandar calculada:', sigma)\n",
        "print(X_norm)"
      ]
    },
    {
      "cell_type": "markdown",
      "metadata": {
        "id": "pDbib1JVVn82"
      },
      "source": [
        "Despues de `featureNormalize` la funcion es provada, se añade el temino de interseccion a `X_norm`:"
      ]
    },
    {
      "cell_type": "code",
      "execution_count": 92,
      "metadata": {
        "id": "qXpGaaD0Vn83"
      },
      "outputs": [],
      "source": [
        "# Añade el termino de interseccion a X\n",
        "# (Columna de unos para X0)\n",
        "X = np.concatenate([np.ones((m, 1)), X_norm], axis=1)"
      ]
    },
    {
      "cell_type": "code",
      "execution_count": 93,
      "metadata": {
        "colab": {
          "base_uri": "https://localhost:8080/"
        },
        "id": "Pzz24OdaVn83",
        "outputId": "f3d18024-6170-42dd-96db-3a99e9d3dd3a"
      },
      "outputs": [
        {
          "output_type": "stream",
          "name": "stdout",
          "text": [
            "[[ 1.00000000e+00 -4.75318407e-01 -2.11292386e-01  7.91768936e-01]\n",
            " [ 1.00000000e+00  8.80581962e-01 -1.43894496e-01  7.91768936e-01]\n",
            " [ 1.00000000e+00  7.50942821e+00  1.47365487e+00  3.12050110e+00]\n",
            " [ 1.00000000e+00 -6.25974004e-01 -9.09871518e-03 -3.72597146e-01]\n",
            " [ 1.00000000e+00 -5.50646206e-01 -4.27976603e-02 -3.72597146e-01]\n",
            " [ 1.00000000e+00 -7.76629600e-01 -1.10195551e-01 -3.72597146e-01]\n",
            " [ 1.00000000e+00 -5.50646206e-01 -1.43894496e-01 -3.72597146e-01]\n",
            " [ 1.00000000e+00  7.29926366e-01 -4.27976603e-02  7.91768936e-01]\n",
            " [ 1.00000000e+00  7.29926366e-01 -1.43894496e-01  7.91768936e-01]\n",
            " [ 1.00000000e+00  5.03942971e-01  2.46002299e-02  7.91768936e-01]\n",
            " [ 1.00000000e+00  1.27303979e-01 -1.10195551e-01  7.91768936e-01]\n",
            " [ 1.00000000e+00  1.18189316e+00 -1.43894496e-01  7.91768936e-01]\n",
            " [ 1.00000000e+00  1.10656536e+00 -9.09871518e-03  7.91768936e-01]\n",
            " [ 1.00000000e+00 -7.01301802e-01 -4.27976603e-02 -3.72597146e-01]\n",
            " [ 1.00000000e+00 -9.86794158e-02 -2.11292386e-01 -3.72597146e-01]\n",
            " [ 1.00000000e+00 -6.25974004e-01 -1.43894496e-01 -3.72597146e-01]\n",
            " [ 1.00000000e+00 -3.24662811e-01 -1.43894496e-01 -3.72597146e-01]\n",
            " [ 1.00000000e+00  3.53287374e-01 -2.11292386e-01 -1.53696323e+00]\n",
            " [ 1.00000000e+00 -3.24662811e-01  2.46002299e-02  7.91768936e-01]\n",
            " [ 1.00000000e+00 -2.33516175e-02 -1.10195551e-01  7.91768936e-01]\n",
            " [ 1.00000000e+00  4.28615172e-01 -1.10195551e-01  7.91768936e-01]\n",
            " [ 1.00000000e+00  1.40787655e+00  1.59396010e-01  7.91768936e-01]\n",
            " [ 1.00000000e+00 -6.25974004e-01 -7.64966054e-02 -3.72597146e-01]\n",
            " [ 1.00000000e+00  5.03942971e-01 -1.77593441e-01  7.91768936e-01]\n",
            " [ 1.00000000e+00  5.03942971e-01 -1.10195551e-01  7.91768936e-01]\n",
            " [ 1.00000000e+00  3.53287374e-01 -1.10195551e-01  7.91768936e-01]\n",
            " [ 1.00000000e+00  4.28615172e-01 -7.64966054e-02 -1.53696323e+00]\n",
            " [ 1.00000000e+00 -3.24662811e-01 -1.10195551e-01 -3.72597146e-01]\n",
            " [ 1.00000000e+00 -3.99990609e-01 -4.27976603e-02 -1.53696323e+00]\n",
            " [ 1.00000000e+00 -4.75318407e-01 -1.43894496e-01 -3.72597146e-01]\n",
            " [ 1.00000000e+00 -7.01301802e-01 -7.64966054e-02 -3.72597146e-01]\n",
            " [ 1.00000000e+00  5.19761808e-02  2.46002299e-02  7.91768936e-01]\n",
            " [ 1.00000000e+00  1.27303979e-01 -1.10195551e-01  7.91768936e-01]\n",
            " [ 1.00000000e+00 -4.75318407e-01 -1.43894496e-01 -3.72597146e-01]\n",
            " [ 1.00000000e+00 -9.86794158e-02 -9.09871518e-03  7.91768936e-01]\n",
            " [ 1.00000000e+00  8.05254164e-01 -1.10195551e-01  7.91768936e-01]\n",
            " [ 1.00000000e+00 -1.07794079e+00 -7.64966054e-02 -1.53696323e+00]\n",
            " [ 1.00000000e+00  1.33254875e+00 -4.27976603e-02  7.91768936e-01]\n",
            " [ 1.00000000e+00 -9.86794158e-02  2.46002299e-02  7.91768936e-01]\n",
            " [ 1.00000000e+00  1.27303979e-01 -1.43894496e-01  7.91768936e-01]\n",
            " [ 1.00000000e+00  1.27303979e-01 -1.10195551e-01  7.91768936e-01]\n",
            " [ 1.00000000e+00  5.03942971e-01 -1.10195551e-01 -2.70132931e+00]\n",
            " [ 1.00000000e+00 -2.49335012e-01 -1.10195551e-01 -3.72597146e-01]\n",
            " [ 1.00000000e+00  5.03942971e-01 -7.64966054e-02  7.91768936e-01]\n",
            " [ 1.00000000e+00 -6.25974004e-01 -1.43894496e-01 -3.72597146e-01]\n",
            " [ 1.00000000e+00 -7.76629600e-01 -2.11292386e-01 -3.72597146e-01]\n",
            " [ 1.00000000e+00  5.79270769e-01 -1.43894496e-01 -2.70132931e+00]\n",
            " [ 1.00000000e+00  3.53287374e-01 -1.10195551e-01  7.91768936e-01]\n",
            " [ 1.00000000e+00 -1.37925199e+00 -2.11292386e-01 -1.53696323e+00]\n",
            " [ 1.00000000e+00  1.27303979e-01 -1.10195551e-01  7.91768936e-01]\n",
            " [ 1.00000000e+00  1.27303979e-01 -1.10195551e-01  7.91768936e-01]\n",
            " [ 1.00000000e+00 -4.75318407e-01 -1.43894496e-01 -3.72597146e-01]\n",
            " [ 1.00000000e+00  3.53287374e-01  9.79729432e+00  7.91768936e-01]\n",
            " [ 1.00000000e+00 -6.25974004e-01 -1.43894496e-01 -3.72597146e-01]\n",
            " [ 1.00000000e+00 -4.75318407e-01 -2.11292386e-01 -3.72597146e-01]\n",
            " [ 1.00000000e+00 -7.01301802e-01 -4.27976603e-02 -3.72597146e-01]\n",
            " [ 1.00000000e+00 -3.99990609e-01 -2.11292386e-01 -2.70132931e+00]\n",
            " [ 1.00000000e+00 -7.76629600e-01 -9.09871518e-03 -3.72597146e-01]\n",
            " [ 1.00000000e+00 -4.75318407e-01 -1.43894496e-01 -3.72597146e-01]\n",
            " [ 1.00000000e+00 -5.50646206e-01 -1.10195551e-01 -3.72597146e-01]\n",
            " [ 1.00000000e+00 -6.25974004e-01 -1.43894496e-01 -3.72597146e-01]\n",
            " [ 1.00000000e+00 -7.01301802e-01 -1.43894496e-01 -3.72597146e-01]\n",
            " [ 1.00000000e+00 -1.22859639e+00 -1.43894496e-01 -3.72597146e-01]\n",
            " [ 1.00000000e+00 -3.99990609e-01 -2.11292386e-01 -2.70132931e+00]\n",
            " [ 1.00000000e+00 -3.99990609e-01 -1.10195551e-01 -3.72597146e-01]\n",
            " [ 1.00000000e+00 -5.50646206e-01 -1.10195551e-01 -3.72597146e-01]\n",
            " [ 1.00000000e+00  2.77959576e-01 -1.10195551e-01  7.91768936e-01]\n",
            " [ 1.00000000e+00  2.02631777e-01 -1.10195551e-01  7.91768936e-01]\n",
            " [ 1.00000000e+00  1.03123756e+00 -1.10195551e-01  7.91768936e-01]\n",
            " [ 1.00000000e+00 -1.07794079e+00 -4.27976603e-02 -3.72597146e-01]\n",
            " [ 1.00000000e+00  2.02631777e-01 -1.10195551e-01  7.91768936e-01]\n",
            " [ 1.00000000e+00  2.02631777e-01 -7.64966054e-02  7.91768936e-01]\n",
            " [ 1.00000000e+00 -4.75318407e-01 -1.43894496e-01  7.91768936e-01]\n",
            " [ 1.00000000e+00  1.03123756e+00 -9.09871518e-03  7.91768936e-01]\n",
            " [ 1.00000000e+00  1.03123756e+00 -2.11292386e-01  7.91768936e-01]\n",
            " [ 1.00000000e+00  2.02631777e-01 -7.64966054e-02  7.91768936e-01]\n",
            " [ 1.00000000e+00  5.03942971e-01 -1.43894496e-01  7.91768936e-01]\n",
            " [ 1.00000000e+00 -7.01301802e-01 -1.10195551e-01 -3.72597146e-01]\n",
            " [ 1.00000000e+00  2.02631777e-01 -7.64966054e-02  7.91768936e-01]\n",
            " [ 1.00000000e+00  8.05254164e-01 -1.43894496e-01  7.91768936e-01]\n",
            " [ 1.00000000e+00  7.29926366e-01 -2.11292386e-01  7.91768936e-01]\n",
            " [ 1.00000000e+00  1.27303979e-01 -1.77593441e-01  7.91768936e-01]\n",
            " [ 1.00000000e+00 -3.99990609e-01 -1.43894496e-01  7.91768936e-01]\n",
            " [ 1.00000000e+00 -8.51957399e-01 -2.11292386e-01 -3.72597146e-01]\n",
            " [ 1.00000000e+00 -7.01301802e-01 -9.09871518e-03 -3.72597146e-01]\n",
            " [ 1.00000000e+00 -7.76629600e-01 -1.43894496e-01 -3.72597146e-01]\n",
            " [ 1.00000000e+00 -6.25974004e-01 -2.11292386e-01 -3.72597146e-01]\n",
            " [ 1.00000000e+00 -2.49335012e-01 -2.11292386e-01 -3.72597146e-01]\n",
            " [ 1.00000000e+00 -3.99990609e-01 -4.27976603e-02  7.91768936e-01]\n",
            " [ 1.00000000e+00  9.55909760e-01 -2.11292386e-01 -3.72597146e-01]\n",
            " [ 1.00000000e+00 -8.51957399e-01 -2.11292386e-01 -3.72597146e-01]\n",
            " [ 1.00000000e+00  5.03942971e-01 -1.77593441e-01  7.91768936e-01]\n",
            " [ 1.00000000e+00 -3.24662811e-01 -7.64966054e-02 -3.72597146e-01]\n",
            " [ 1.00000000e+00 -1.00261300e+00 -2.11292386e-01 -1.53696323e+00]\n",
            " [ 1.00000000e+00  1.40787655e+00  1.25697065e-01  7.91768936e-01]\n",
            " [ 1.00000000e+00 -4.75318407e-01 -1.43894496e-01 -3.72597146e-01]\n",
            " [ 1.00000000e+00  5.03942971e-01 -1.77593441e-01  7.91768936e-01]\n",
            " [ 1.00000000e+00 -7.76629600e-01 -2.11292386e-01 -1.53696323e+00]\n",
            " [ 1.00000000e+00  2.02631777e-01 -2.11292386e-01 -2.70132931e+00]\n",
            " [ 1.00000000e+00 -1.52990758e+00 -2.11292386e-01 -1.53696323e+00]]\n"
          ]
        }
      ],
      "source": [
        "print(X)"
      ]
    },
    {
      "cell_type": "markdown",
      "metadata": {
        "id": "V54HlIKAVn83"
      },
      "source": [
        "<a id=\"section5\"></a>\n",
        "### 2.2 Descenso por el gradiente\n",
        "\n",
        "En el ejemplo anterior se implemento el descenso por el gradiente para un problema de regresion univariable. La unica diferencia es que ahora existe una caracteristica adicional en la matriz $X$. La función de hipótesis y la regla de actualización del descenso del gradiente por lotes permanecen sin cambios.\n",
        "\n",
        "La implementacion de las funciones `computeCostMulti` y `gradientDescentMulti` son similares a la funcion de costo y función de descenso por el gradiente de la regresión lineal multiple es similar al de la regresion lineal multivariable. Es importante garantizar que el codigo soporte cualquier numero de caracteristicas y esten bien vectorizadas.\n",
        "\n",
        "Se puede utilizar `shape`, propiedad de los arrays `numpy`, para identificar cuantas caracteristicas estan consideradas en el dataset.\n",
        "\n",
        "<div class=\"alert alert-block alert-warning\">\n",
        "**Nota de implementación:** En el caso de multivariables, la función de costo puede se escrita considerando la forma vectorizada de la siguiente manera:\n",
        "\n",
        "$$ J(\\theta) = \\frac{1}{2m}(X\\theta - \\vec{y})^T(X\\theta - \\vec{y}) $$\n",
        "\n",
        "donde:\n",
        "\n",
        "$$ X = \\begin{pmatrix}\n",
        "          - (x^{(1)})^T - \\\\\n",
        "          - (x^{(2)})^T - \\\\\n",
        "          \\vdots \\\\\n",
        "          - (x^{(m)})^T - \\\\ \\\\\n",
        "        \\end{pmatrix} \\qquad \\mathbf{y} = \\begin{bmatrix} y^{(1)} \\\\ y^{(2)} \\\\ \\vdots \\\\ y^{(m)} \\\\\\end{bmatrix}$$\n",
        "\n",
        "La version vectorizada es eficiente cuando se trabaja con herramientas de calculo numericos computacional como `numpy`. \n",
        "</div>\n",
        "\n",
        "<a id=\"computeCostMulti\"></a>"
      ]
    },
    {
      "cell_type": "code",
      "execution_count": 94,
      "metadata": {
        "id": "R5xCTuCUVn83"
      },
      "outputs": [],
      "source": [
        "def computeCostMulti(X, y, theta):\n",
        "    # Inicializa algunos valores utiles\n",
        "    m = y.shape[0] # numero de ejemplos de entrenamiento\n",
        "    \n",
        "    J = 0\n",
        "    \n",
        "    h = np.dot(X, theta)\n",
        "    \n",
        "    J = (1/(2 * m)) * np.sum(np.square(np.dot(X, theta) - y))\n",
        "    \n",
        "    return J\n"
      ]
    },
    {
      "cell_type": "code",
      "execution_count": 95,
      "metadata": {
        "id": "1FbQyFHtVn83"
      },
      "outputs": [],
      "source": [
        "def gradientDescentMulti(X, y, theta, alpha, num_iters):\n",
        "    \n",
        "    # Inicializa algunos valores \n",
        "    m = y.shape[0] # numero de ejemplos de entrenamiento\n",
        "    \n",
        "    # realiza una copia de theta, el cual será acutalizada por el descenso por el gradiente\n",
        "    theta = theta.copy()\n",
        "    \n",
        "    J_history = []\n",
        "    \n",
        "    for i in range(num_iters):\n",
        "        theta = theta - (alpha / m) * (np.dot(X, theta) - y).dot(X)\n",
        "        J_history.append(computeCostMulti(X, y, theta))\n",
        "    \n",
        "    return theta, J_history"
      ]
    },
    {
      "cell_type": "markdown",
      "metadata": {
        "id": "dJ2VxNfaVn83"
      },
      "source": [
        "#### 3.2.1 Seleccionando coheficientes de aprendizaje\n"
      ]
    },
    {
      "cell_type": "code",
      "execution_count": 96,
      "metadata": {
        "colab": {
          "base_uri": "https://localhost:8080/",
          "height": 500
        },
        "id": "K4gVCgsfVn84",
        "outputId": "64e8d02c-d934-46c2-faa6-9f0bad80fe68"
      },
      "outputs": [
        {
          "output_type": "stream",
          "name": "stdout",
          "text": [
            "theta calculado por el descenso por el gradiente: [406959.99999999 170389.36287503   1466.1193182   -7369.15147998]\n",
            "El precio predecido para una sitio de 40 su y 20 st mas 2 ambientes (usando el descenso por el gradiente): $-995945\n"
          ]
        },
        {
          "output_type": "display_data",
          "data": {
            "text/plain": [
              "<Figure size 640x480 with 1 Axes>"
            ],
            "image/png": "[encoded data removed]"
          },
          "metadata": {}
        }
      ],
      "source": [
        "# Elegir algun valor para alpha (probar varias alternativas)\n",
        "alpha = 0.002 # alpha = 0.003\n",
        "num_iters = 300000\n",
        "\n",
        "# inicializa theta y ejecuta el descenso por el gradiente\n",
        "theta = np.zeros(4)\n",
        "theta, J_history = gradientDescentMulti(X, y, theta, alpha, num_iters)\n",
        "\n",
        "# Grafica la convergencia del costo\n",
        "pyplot.plot(np.arange(len(J_history)), J_history, lw=2)\n",
        "pyplot.xlabel('Numero de iteraciones')\n",
        "pyplot.ylabel('Costo J')\n",
        "\n",
        "# Muestra los resultados del descenso por el gradiente\n",
        "print('theta calculado por el descenso por el gradiente: {:s}'.format(str(theta)))\n",
        "\n",
        "# Estimar el precio para una casa de 1650 sq-ft, con 3 dormitorios\n",
        "X_array = [1, 40, 20, 2]\n",
        "X_array[0:3] = (X_array[0:3] - mu) / sigma\n",
        "price = np.dot(X_array, theta)   # Se debe cambiar esto\n",
        "\n",
        "print('El precio predecido para una sitio de 40 su y 20 st mas 2 ambientes (usando el descenso por el gradiente): ${:.0f}'.format(price))"
      ]
    },
    {
      "cell_type": "code",
      "execution_count": 97,
      "metadata": {
        "id": "5Bqbn4VtVn84"
      },
      "outputs": [],
      "source": [
        "X_array = [1, 16, 3,1]\n",
        "X_array[0:3] = (X_array[0:3] - mu) / sigma"
      ]
    },
    {
      "cell_type": "code",
      "execution_count": 98,
      "metadata": {
        "colab": {
          "base_uri": "https://localhost:8080/"
        },
        "id": "YiFRyR0DVn84",
        "outputId": "8eef2db7-cec8-46cd-8bb3-19c53250264c"
      },
      "outputs": [
        {
          "output_type": "execute_result",
          "data": {
            "text/plain": [
              "[-2.9611357510841674, 0.32789073608233554, 0.7917689358154576]"
            ]
          },
          "metadata": {},
          "execution_count": 98
        }
      ],
      "source": [
        "X_array[0:3]"
      ]
    },
    {
      "cell_type": "markdown",
      "metadata": {
        "id": "Tq1EPGUHVn84"
      },
      "source": [
        "<a id=\"section7\"></a>\n",
        "### 2.3 Ecuacion de la Normal\n",
        "\n",
        "Una manera de calcular rapidamente el modelo de una regresion lineal es:\n",
        "\n",
        "$$ \\theta = \\left( X^T X\\right)^{-1} X^T\\vec{y}$$\n",
        "\n",
        "Utilizando esta formula no requiere que se escale ninguna caracteristica, y se obtendra una solucion exacta con un solo calculo: no hay “bucles de convergencia” como en el descenso por el gradiente. \n",
        "\n",
        "Primero se recargan los datos para garantizar que las variables no esten modificadas. Recordar que no es necesario escalar las caracteristicas, se debe agregar la columna de unos a la matriz $X$ para tener el termino de intersección($\\theta_0$). "
      ]
    },
    {
      "cell_type": "code",
      "execution_count": 99,
      "metadata": {
        "id": "5UE0T8ENVn84"
      },
      "outputs": [],
      "source": [
        "# Cargar datos\n",
        "data = np.loadtxt(os.path.join('/content/drive/MyDrive/datasets/AlquilerPrecio.txt'), delimiter=',')\n",
        "X = data[:100, 4:7]\n",
        "y = data[:100, 2]\n",
        "m = y.size\n",
        "X = np.concatenate([np.ones((m, 1)), X], axis=1)"
      ]
    },
    {
      "cell_type": "code",
      "execution_count": 100,
      "metadata": {
        "id": "JQrs-6cGVn84"
      },
      "outputs": [],
      "source": [
        "def normalEqn(X, y):\n",
        "  \n",
        "    theta = np.zeros(X.shape[1])\n",
        "    \n",
        "    theta = np.dot(np.dot(np.linalg.inv(np.dot(X.T,X)),X.T),y)\n",
        "    \n",
        "    return theta"
      ]
    },
    {
      "cell_type": "code",
      "execution_count": 101,
      "metadata": {
        "id": "d0OzpOyyVn84",
        "colab": {
          "base_uri": "https://localhost:8080/"
        },
        "outputId": "b55e6c29-b632-4f4a-e0f5-7c90375fd27c"
      },
      "outputs": [
        {
          "output_type": "stream",
          "name": "stdout",
          "text": [
            "Theta calculado a partir de la ecuación de la normal: [-9.08243645e+04  1.28350556e+04  4.94066745e+01 -8.58039004e+03]\n",
            "Precio predecido para una cada de superficie de 1650 sq-ft y 3 dormitorios (usando la ecuación de la normal): $406405\n"
          ]
        }
      ],
      "source": [
        "# Calcula los parametros con la ecuación de la normal\n",
        "theta = normalEqn(X, y);\n",
        "\n",
        "# Muestra los resultados optenidos a partir de la aplicación de la ecuación de la normal\n",
        "print('Theta calculado a partir de la ecuación de la normal: {:s}'.format(str(theta)));\n",
        "\n",
        "# Estimar el precio para una casa de superficie de 1650 sq-ft y tres dormitorios\n",
        "\n",
        "X_array = [1, 40, 20, 2]\n",
        "price = np.dot(X_array, theta) \n",
        "\n",
        "print('Precio predecido para una cada de superficie de 1650 sq-ft y 3 dormitorios (usando la ecuación de la normal): ${:.0f}'.format(price))"
      ]
    },
    {
      "cell_type": "code",
      "source": [
        "X_array = [1, 1650, 3]\n",
        "#X_array[1:3] = (X_array[1:3] - mu) / sigma\n",
        "X_array[0:3]"
      ],
      "metadata": {
        "colab": {
          "base_uri": "https://localhost:8080/"
        },
        "id": "yPCkjuRryyEd",
        "outputId": "bdebad58-a65b-447d-d65c-418974711e26"
      },
      "execution_count": 102,
      "outputs": [
        {
          "output_type": "execute_result",
          "data": {
            "text/plain": [
              "[1, 1650, 3]"
            ]
          },
          "metadata": {},
          "execution_count": 102
        }
      ]
    },
    {
      "cell_type": "code",
      "source": [],
      "metadata": {
        "id": "AaY2weQ6y04r"
      },
      "execution_count": 102,
      "outputs": []
    }
  ],
  "metadata": {
    "kernelspec": {
      "display_name": "Python 3",
      "language": "python",
      "name": "python3"
    },
    "language_info": {
      "codemirror_mode": {
        "name": "ipython",
        "version": 3
      },
      "file_extension": ".py",
      "mimetype": "text/x-python",
      "name": "python",
      "nbconvert_exporter": "python",
      "pygments_lexer": "ipython3",
      "version": "3.8.5"
    },
    "colab": {
      "provenance": [],
      "include_colab_link": true
    }
  },
  "nbformat": 4,
  "nbformat_minor": 0
}
