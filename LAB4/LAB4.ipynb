{
  "nbformat": 4,
  "nbformat_minor": 0,
  "metadata": {
    "colab": {
      "provenance": [],
      "authorship_tag": "ABX9TyPPJT5eR+1SsxBdIeWZBggi",
      "include_colab_link": true
    },
    "kernelspec": {
      "name": "python3",
      "display_name": "Python 3"
    },
    "language_info": {
      "name": "python"
    }
  },
  "cells": [
    {
      "cell_type": "markdown",
      "metadata": {
        "id": "view-in-github",
        "colab_type": "text"
      },
      "source": [
        "<a href=\"https://colab.research.google.com/github/JLALLANOSM/Sis420_LlanosMendoza/blob/main/LAB4/LAB4.ipynb\" target=\"_parent\"><img src=\"https://colab.research.google.com/assets/colab-badge.svg\" alt=\"Open In Colab\"/></a>"
      ]
    },
    {
      "cell_type": "code",
      "source": [
        "class Nodo:\n",
        "    def __init__(self, estado, hijo=None):\n",
        "        self.estado = estado\n",
        "        self.hijo = None\n",
        "        self.padre = None\n",
        "        self.accion = None\n",
        "        self.acciones = None\n",
        "        self.costo = None\n",
        "        self.set_hijo(hijo)\n",
        "\n",
        "    def set_estado(self, estado):\n",
        "        self.estado = estado\n",
        "\n",
        "    def get_estado(self):\n",
        "        return self.estado\n",
        "\n",
        "    def set_hijo(self, hijo):\n",
        "        self.hijo = hijo\n",
        "        if self.hijo is not None:\n",
        "            for s in self.hijo:\n",
        "                s.padre = self\n",
        "\n",
        "    def get_hijo(self):\n",
        "        return self.hijo\n",
        "    \n",
        "    def set_padre(self, padre):\n",
        "        self.padre = padre\n",
        "\n",
        "    def get_padre(self):\n",
        "        return self.padre\n",
        "    \n",
        "    def set_accion(self, accion):\n",
        "        self.padre = accion\n",
        "\n",
        "    def get_accion(self):\n",
        "        return self.accion\n",
        "\n",
        "    def set_acciones(self, acciones):\n",
        "        self.acciones = acciones\n",
        "\n",
        "    def get_acciones(self):\n",
        "        return self.acciones\n",
        "\n",
        "    def set_costo(self, costo):\n",
        "        self.costo = costo\n",
        "\n",
        "    def get_costo(self):\n",
        "        return self.costo\n",
        "\n",
        "    def equal(self, Nodo):\n",
        "        if self.get_estado() == Nodo.get_estado():\n",
        "            return True\n",
        "        else:\n",
        "            return False\n",
        "\n",
        "    def en_lista(self, lista_nodos):\n",
        "        enlistado = False\n",
        "        for n in lista_nodos:\n",
        "            if self.equal(n):\n",
        "                enlistado = True\n",
        "        return enlistado\n",
        "\n",
        "    def __str__(self):\n",
        "        return str(self.get_estado())\n"
      ],
      "metadata": {
        "id": "5vUerAqxHa-q"
      },
      "execution_count": 6,
      "outputs": []
    },
    {
      "cell_type": "code",
      "source": [
        "# Puzle lineal con Busqueda en Profundidad Recursiva\n",
        "#from Nodos import Nodo\n",
        "\n",
        "\n",
        "def busqueda_BPL(estado_inicial, estado_objetivo, limite):\n",
        "    nodos_explorados = []\n",
        "    nodo_inicial = Nodo(estado_inicial)\n",
        "    return BPLR(nodo_inicial, estado_objetivo, limite, nodos_explorados)\n",
        "\n",
        "def BPLR(nodo_actual, estado_objetivo, limite, nodos_explorados):\n",
        "    if nodo_actual.get_estado() == estado_objetivo:\n",
        "        return nodo_actual\n",
        "    else:\n",
        "        if limite == 0:\n",
        "            return None\n",
        "        else:\n",
        "            # Expandir nodos sucesores (hijos)\n",
        "            datos_nodo = nodo_actual.get_estado()\n",
        "            hijo = datos_nodo.copy()\n",
        "            hijos = []\n",
        "            # operador izquierdo\n",
        "            for i in range(len(hijo)-1):\n",
        "                hijo[i], hijo[i+1] = hijo[i+1], hijo[i]\n",
        "                hijos.append(Nodo(hijo))\n",
        "                hijo = datos_nodo.copy()\n",
        "            nodo_actual.set_hijo(hijos)\n",
        "            #hijo = [datos_nodo[1], datos_nodo[0], datos_nodo[2], datos_nodo[3]]\n",
        "            #hijo_izquierda = Nodo(hijo)\n",
        "            #hijo = [datos_nodo[0], datos_nodo[2], datos_nodo[1], datos_nodo[3]]\n",
        "            #hijo_centro = Nodo(hijo)\n",
        "            #hijo = [datos_nodo[0], datos_nodo[1], datos_nodo[3], datos_nodo[2]]\n",
        "            #hijo_derecha = Nodo(hijo)\n",
        "\n",
        "            for nodo_hijo in nodo_actual.get_hijo():\n",
        "                if not nodo_hijo.get_estado() in nodos_explorados:\n",
        "                    # Llamada Recursiva\n",
        "                    Solution = BPLR(nodo_hijo, estado_objetivo, limite - 1, nodos_explorados)\n",
        "                    if Solution is not None:\n",
        "                        return Solution\n",
        "\n",
        "\"\"\"\n",
        " \\\n",
        "\\/\\\n",
        "/\\/\n",
        " /\n",
        "\n",
        " /\\\n",
        "/\\/\\\n",
        " /\\\n",
        "\n",
        "\\\\/\\/\\//\n",
        "11010100\n",
        "\\\\/\\/\\//\n",
        "01010101\n",
        "\"\"\"\n",
        "if __name__ == \"__main__\":\n",
        "    estado_inicial = [1, 1, 0, 1, 0, 1, 0, 0]\n",
        "    estado_objetivo = [0, 1, 0, 1, 0, 1, 0, 1]\n",
        "    limite = 7\n",
        " \n",
        "    nodo_solucion = busqueda_BPL(estado_inicial, estado_objetivo, limite)\n",
        "    nodo_actual = nodo_solucion\n",
        "    # Mostrar Resultado\n",
        "    resultado = []\n",
        "    while nodo_actual.get_padre() is not None:\n",
        "        resultado.append(nodo_actual.get_estado())\n",
        "        nodo_actual = nodo_actual.get_padre()\n",
        "    resultado.append(estado_inicial)\n",
        "    resultado.reverse()\n",
        "    print(resultado)\n",
        "\n"
      ],
      "metadata": {
        "colab": {
          "base_uri": "https://localhost:8080/"
        },
        "id": "6u_gXQqYHQKm",
        "outputId": "7ae5b41c-a490-4c48-9507-b9f95751b0a3"
      },
      "execution_count": 12,
      "outputs": [
        {
          "output_type": "stream",
          "name": "stdout",
          "text": [
            "[[1, 1, 0, 1, 0, 1, 0, 0], [1, 0, 1, 1, 0, 1, 0, 0], [0, 1, 1, 1, 0, 1, 0, 0], [0, 1, 1, 0, 1, 1, 0, 0], [0, 1, 1, 0, 1, 0, 1, 0], [0, 1, 1, 0, 0, 1, 1, 0], [0, 1, 0, 1, 0, 1, 1, 0], [0, 1, 0, 1, 0, 1, 0, 1]]\n"
          ]
        }
      ]
    },
    {
      "cell_type": "code",
      "source": [],
      "metadata": {
        "id": "f7qHGdnsIaoL"
      },
      "execution_count": null,
      "outputs": []
    }
  ]
}