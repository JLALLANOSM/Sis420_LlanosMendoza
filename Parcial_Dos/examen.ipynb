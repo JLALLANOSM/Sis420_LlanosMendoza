{
  "cells": [
    {
      "cell_type": "markdown",
      "metadata": {
        "id": "fxYd72KmVn8x"
      },
      "source": [
        "# Dataset: 38 - Regresion Lineal Multivariable "
      ]
    },
    {
      "cell_type": "code",
      "execution_count": 416,
      "metadata": {
        "id": "-NQwq_hsVn80"
      },
      "outputs": [],
      "source": [
        "# utilizado para manejos de directorios y rutas\n",
        "import os\n",
        "\n",
        "# Computacion vectorial y cientifica para python\n",
        "import numpy as np\n",
        "\n",
        "# Librerias para graficación (trazado de gráficos)\n",
        "from matplotlib import pyplot\n",
        "from mpl_toolkits.mplot3d import Axes3D  # Necesario para graficar superficies 3D\n",
        "\n",
        "# llama a matplotlib a embeber graficas dentro de los cuadernillos\n",
        "%matplotlib inline\n",
        "\n",
        "import pandas as pd"
      ]
    },
    {
      "cell_type": "markdown",
      "metadata": {
        "id": "dl4y9LL2Vn81"
      },
      "source": [
        "## 2 Regresión lineal con multiples variables\n",
        "\n",
        "Se implementa la regresion lineal multivariable para predecir el precio de las casas. El archivo `Datasets/ex1data2.txt` contiene un conjunto de entrenamiento de precios de casas en Portland, Oregon. La primera columna es el tamaño de la casa en metros cuadrados, la segunda columna es el numero de cuartos, y la tercera columna es el precio de la casa. \n",
        "\n",
        "<a id=\"section4\"></a>\n",
        "### 2.1 Normalización de caracteristicas\n",
        "\n",
        "Al visualizar los datos se puede observar que las caracteristicas tienen diferentes magnitudes, por lo cual se debe transformar cada valor en una escala de valores similares, esto con el fin de que el descenso por el gradiente pueda converger mas rapidamente."
      ]
    },
    {
      "cell_type": "code",
      "source": [
        "from google.colab import drive\n",
        "drive.mount('/content/drive')"
      ],
      "metadata": {
        "colab": {
          "base_uri": "https://localhost:8080/"
        },
        "id": "1MmuovO0q6QH",
        "outputId": "9c7b681e-5ee0-44d7-8861-e146dab0f47a"
      },
      "execution_count": 417,
      "outputs": [
        {
          "output_type": "stream",
          "name": "stdout",
          "text": [
            "Drive already mounted at /content/drive; to attempt to forcibly remount, call drive.mount(\"/content/drive\", force_remount=True).\n"
          ]
        }
      ]
    },
    {
      "cell_type": "code",
      "source": [],
      "metadata": {
        "id": "rVA45dnndD5A"
      },
      "execution_count": 417,
      "outputs": []
    },
    {
      "cell_type": "code",
      "source": [
        "data = pd.read_csv('/content/drive/MyDrive/datasets/Car.csv')"
      ],
      "metadata": {
        "id": "v6zpSpbiuLvw"
      },
      "execution_count": 418,
      "outputs": []
    },
    {
      "cell_type": "code",
      "source": [
        "data.info()"
      ],
      "metadata": {
        "colab": {
          "base_uri": "https://localhost:8080/"
        },
        "id": "oqVU4YNexaPr",
        "outputId": "10d63f26-41a7-4708-aebb-e9cb7d6e807e"
      },
      "execution_count": 419,
      "outputs": [
        {
          "output_type": "stream",
          "name": "stdout",
          "text": [
            "<class 'pandas.core.frame.DataFrame'>\n",
            "RangeIndex: 157 entries, 0 to 156\n",
            "Data columns (total 5 columns):\n",
            " #   Column              Non-Null Count  Dtype  \n",
            "---  ------              --------------  -----  \n",
            " 0   Price_in_thousands  155 non-null    float64\n",
            " 1   Engine_size         156 non-null    float64\n",
            " 2   Horsepower          156 non-null    float64\n",
            " 3   Fuel_efficiency     154 non-null    float64\n",
            " 4   sales               157 non-null    float64\n",
            "dtypes: float64(5)\n",
            "memory usage: 6.3 KB\n"
          ]
        }
      ]
    },
    {
      "cell_type": "markdown",
      "source": [
        "#RELLENAR LAS COLUMNAS CON VALORES NULL CON EL PROMEDIO DE CADA COLUMNAS"
      ],
      "metadata": {
        "id": "UKkfXZ_W5GPs"
      }
    },
    {
      "cell_type": "code",
      "source": [
        "\n",
        "\n",
        "# Rellenar los valores nulos con valores similares de la columna original\n",
        "# Para no perder los valores null rellenamos con valos promedio de cada columnas\n",
        "data_filled = data.copy()\n",
        "data_filled['Price_in_thousands'] = data_filled['Price_in_thousands'].fillna(data_filled['Price_in_thousands'].mean())\n",
        "data_filled['Engine_size'] = data_filled['Engine_size'].fillna(data_filled['Engine_size'].mean())\n",
        "data_filled['Horsepower'] = data_filled['Horsepower'].fillna(data_filled['Horsepower'].mean())\n",
        "data_filled['Fuel_efficiency'] = data_filled['Fuel_efficiency'].fillna(data_filled['Fuel_efficiency'].mean())\n",
        "data_filled['sales'] = data_filled['sales'].fillna(data_filled['sales'].mean())\n",
        "data = data_filled"
      ],
      "metadata": {
        "id": "kcKOYvfPxGBp"
      },
      "execution_count": 420,
      "outputs": []
    },
    {
      "cell_type": "code",
      "source": [
        "data.info()"
      ],
      "metadata": {
        "colab": {
          "base_uri": "https://localhost:8080/"
        },
        "id": "zl80CqbeM2UF",
        "outputId": "4baad3ac-f173-43f1-88f8-7b967aa7461f"
      },
      "execution_count": 421,
      "outputs": [
        {
          "output_type": "stream",
          "name": "stdout",
          "text": [
            "<class 'pandas.core.frame.DataFrame'>\n",
            "RangeIndex: 157 entries, 0 to 156\n",
            "Data columns (total 5 columns):\n",
            " #   Column              Non-Null Count  Dtype  \n",
            "---  ------              --------------  -----  \n",
            " 0   Price_in_thousands  157 non-null    float64\n",
            " 1   Engine_size         157 non-null    float64\n",
            " 2   Horsepower          157 non-null    float64\n",
            " 3   Fuel_efficiency     157 non-null    float64\n",
            " 4   sales               157 non-null    float64\n",
            "dtypes: float64(5)\n",
            "memory usage: 6.3 KB\n"
          ]
        }
      ]
    },
    {
      "cell_type": "markdown",
      "source": [
        "#El siguiente codigo es para realizar la Adaptacion de datos, en otras palabras convertimos las caracteristicas cualitativas a cuantitativas, ya que los entrenamiento y pruebas de un algoritmo de IA, los datos deben ser numericos "
      ],
      "metadata": {
        "id": "gFgIdMBEEVD9"
      }
    },
    {
      "cell_type": "code",
      "source": [
        "#import pandas as pd\n",
        "\n",
        "def csvAdapter(data,modificarColumnas,eliminarColumnas):\n",
        "    #data =pd.read_csv(dataset,encoding='latin-1')#lee y carga el archivo del data set a la variable data\n",
        "    columna = data.columns #asignamos los nombres de columna a la variables columna\n",
        "    print(columna)\n",
        "  \n",
        "    for index in modificarColumnas:\n",
        "        name = columna[index]\n",
        "        print(data[name])\n",
        "        print('............')\n",
        "        value = list(data[name].unique())#obetenemos todos lo valores unicos de cada columna\n",
        "        data[name] = data[name].map(dict(zip(value,[i for i in range(len(value))]))) #aqui es donde hacemos el tratamiento de datos donde a cada valor unico\n",
        "                                                                                      #unico digamos un indice, indice que es numerico ejm 0=femenino, 1=masculino\n",
        "                                                                                    #zip crea una secuencia de duplas\n",
        "                                                                                    #ditc convierte en un diccionario asigando a cada value el valor numerico correspondiente\n",
        "                                                                                    #map se realizar un mapeo reemplazando lo que denifio en el diccionario  \n",
        "\n",
        "        \n",
        "    data = data.drop([columna[index]for index in eliminarColumnas],axis=1)#eliminamos las columnas que no interesan en la resolucion o prediccion del problema   \n",
        "    #for i in range(100):\n",
        "      #name = columna[i]\n",
        "      #for i in range(100):\n",
        "     #   name = columna[i]\n",
        "    #  if(data[name][i])\n",
        "    data = data.dropna()#eliminamos las filas que contengan valores nulos\n",
        "    #data = pd.DataFrame(data, columns=columna)\n",
        "    #dataN = data.to_numpy()\n",
        "    #print(data.head())\n",
        "    return data\n",
        "#rutadataset='/content/drive/MyDrive/datasets/Car.csv'\n",
        "columnaCategoricas = [i for i in range(0, 5) if not i in [0, 1, 2, 3, 4]]# columnas que no necesitan tratamiento\n",
        "eliminarColumnas=[]#columnas a eliminar\n",
        "#data = csvAdapter(data, columnaCategoricas, eliminarColumnas)"
      ],
      "metadata": {
        "id": "FSSSsn8VfJWT"
      },
      "execution_count": 422,
      "outputs": []
    },
    {
      "cell_type": "code",
      "source": [
        "print('tamano original', len(data))"
      ],
      "metadata": {
        "colab": {
          "base_uri": "https://localhost:8080/"
        },
        "id": "OB-XEqXfoZet",
        "outputId": "377e90ab-358f-40bd-da64-267c3a22a2a4"
      },
      "execution_count": 423,
      "outputs": [
        {
          "output_type": "stream",
          "name": "stdout",
          "text": [
            "tamano original 157\n"
          ]
        }
      ]
    },
    {
      "cell_type": "markdown",
      "source": [
        "# 2. FUNCION GENERAR DATOS SINTETICO\n",
        "##Utilizamos esta funcion por si el dataset que nos proporcionen pueda tener un numero de POBLACION MUY BAJA, y con lo cual nos hace dificil tener un entrenamiento, bueno por lo cual se hace un aumento de datos, pero por otra parte si el aumento de datos no es buena o no tiene una coherencia tal vez adecuada el aprendizaje y prediccion del algoritmo podria empeorar. Para lo cual se utiliza la funcion choice mas random que nos ayuda a generar o mas bien agarrar los valores ya existentes y los copia pero aleatoriamente, numeros aleatorios basados en los datos existentes en el dataset y de esta manera vamos generando datos para cada tipo de columna."
      ],
      "metadata": {
        "id": "mra98kHILPCP"
      }
    },
    {
      "cell_type": "code",
      "source": [
        "import pandas as pd\n",
        "def DatosSinteticos(data):\n",
        "    n_Filas = 10000\n",
        "    datosNuevos = np.empty([n_Filas, len(data.columns)])#creamos una matriz vacia con 10000 fila y las cantidad de columnas existentes en el dataset\n",
        "    \n",
        "    for i in range(len(data.columns)):\n",
        "        columna_i = data.iloc[:,i]\n",
        "        muestras_i = np.random.choice(columna_i,n_Filas, replace=True)#generar los numeros aleatorio dependiendo de la muetra tomada, replace \n",
        "                                                                      #replace indica si las muestras pueden o no repetirse\n",
        "        datosNuevos[:,i] = muestras_i.round(3)#redondeamos las muestras para trabajar de mejor manera                            \n",
        "    columnas = list(data.columns) #crea una lista de los nombres de columnas\n",
        "    datosNuevos_df = pd.DataFrame(datosNuevos, columns=columnas) #crea un nuevo data frame \n",
        "\n",
        "    dataExtend = pd.concat([data, datosNuevos_df], axis=0)#concatena el data con los datos sinteticos creados\n",
        "    print(dataExtend.tail())\n",
        "    return dataExtend\n",
        "\n",
        "#data =pd.read_csv('/content/drive/MyDrive/datasets/Car.csv')\n",
        "data = DatosSinteticos(data)\n",
        "data.to_csv('nuevdata.csv')\n",
        "\n",
        "#print('tamano actual', len(data))"
      ],
      "metadata": {
        "colab": {
          "base_uri": "https://localhost:8080/"
        },
        "id": "oNJScrEycv9P",
        "outputId": "fc2c9e64-3f16-4a84-a0c7-ba96df816b5e"
      },
      "execution_count": 424,
      "outputs": [
        {
          "output_type": "stream",
          "name": "stdout",
          "text": [
            "      Price_in_thousands  Engine_size  Horsepower  Fuel_efficiency   sales\n",
            "9995              17.518          2.0       300.0             21.0   9.126\n",
            "9996              22.695          1.5       160.0             26.0  21.855\n",
            "9997              19.460          1.8       168.0             23.0  42.643\n",
            "9998              12.885          1.8       195.0             23.0   5.596\n",
            "9999              42.660          2.4       205.0             27.0  17.947\n"
          ]
        }
      ]
    },
    {
      "cell_type": "code",
      "source": [
        "print('tamano actual', len(data))"
      ],
      "metadata": {
        "colab": {
          "base_uri": "https://localhost:8080/"
        },
        "id": "vweNwj2zoX8L",
        "outputId": "d953314c-736f-4743-ce32-2a619a266ff2"
      },
      "execution_count": 425,
      "outputs": [
        {
          "output_type": "stream",
          "name": "stdout",
          "text": [
            "tamano actual 10157\n"
          ]
        }
      ]
    },
    {
      "cell_type": "code",
      "source": [
        "data = data.to_numpy()"
      ],
      "metadata": {
        "id": "KKnfKv91ecfa"
      },
      "execution_count": 426,
      "outputs": []
    },
    {
      "cell_type": "code",
      "execution_count": 427,
      "metadata": {
        "colab": {
          "base_uri": "https://localhost:8080/"
        },
        "id": "IzvXlXHMVn81",
        "outputId": "d4e6d762-45ff-4da9-f756-fac850c4b813"
      },
      "outputs": [
        {
          "output_type": "stream",
          "name": "stdout",
          "text": [
            "10157\n"
          ]
        }
      ],
      "source": [
        "# Cargar datos\n",
        "# data = np.loadtxt(os.path.join('Datasets', 'ex1data2.txt'), delimiter=',')\n",
        "#data = np.loadtxt('/content/drive/MyDrive/datasets/AlquilerPrecio.txt', delimiter=',')\n",
        "#X = data[:100,0:4]\n",
        "#y = data[:100, 4]\n",
        "X = data[:,0:4]\n",
        "y = data[:,4]\n",
        "m = y.size\n",
        "\n",
        "print(m)\n",
        "# imprimir algunos puntos de datos\n",
        "#print('{:>8s}{:>8s}{:>8s}{:>10s}'.format('X[:,0]', 'X[:, 1]','X[:, 2]', 'y'))\n",
        "#print('-'*36)\n",
        "#for i in range(50):\n",
        "    #print('{:8.0f}{:8.0f}{:8.0f}{:8.0f}'.format(X[i, 0], X[i, 1], X[i, 2], y[i]))"
      ]
    },
    {
      "cell_type": "code",
      "source": [
        "print(X[: 20])\n",
        "print(y[: 20])\n",
        "X_prueba = X.copy()\n",
        "pyplot.plot(X[:10,0:4],y[:10], lw=2)\n",
        "pyplot.xlabel('x')\n",
        "pyplot.ylabel('y')"
      ],
      "metadata": {
        "colab": {
          "base_uri": "https://localhost:8080/",
          "height": 865
        },
        "id": "bs4REqxBejom",
        "outputId": "56f75821-47e9-498b-b091-039c76d0a717"
      },
      "execution_count": 428,
      "outputs": [
        {
          "output_type": "stream",
          "name": "stdout",
          "text": [
            "[[ 21.5          1.8        140.          28.        ]\n",
            " [ 28.4          3.2        225.          25.        ]\n",
            " [ 27.39075484   3.2        225.          26.        ]\n",
            " [ 42.           3.5        210.          22.        ]\n",
            " [ 23.99         1.8        150.          27.        ]\n",
            " [ 33.95         2.8        200.          22.        ]\n",
            " [ 62.           4.2        310.          21.        ]\n",
            " [ 26.99         2.5        170.          26.        ]\n",
            " [ 33.4          2.8        193.          24.        ]\n",
            " [ 38.9          2.8        193.          25.        ]\n",
            " [ 21.975        3.1        175.          25.        ]\n",
            " [ 25.3          3.8        240.          23.        ]\n",
            " [ 31.965        3.8        205.          24.        ]\n",
            " [ 27.885        3.8        205.          25.        ]\n",
            " [ 39.895        4.6        275.          22.        ]\n",
            " [ 44.475        4.6        275.          22.        ]\n",
            " [ 39.665        4.6        275.          22.        ]\n",
            " [ 31.01         3.         200.          22.        ]\n",
            " [ 46.225        5.7        255.          15.        ]\n",
            " [ 13.26         2.2        115.          27.        ]]\n",
            "[ 16.919  39.384  14.114   8.588  20.397  18.78    1.38   19.747   9.231\n",
            "  17.527  91.561  39.35   27.851  83.257  63.729  15.943   6.536  11.185\n",
            "  14.785 145.519]\n"
          ]
        },
        {
          "output_type": "execute_result",
          "data": {
            "text/plain": [
              "Text(0, 0.5, 'y')"
            ]
          },
          "metadata": {},
          "execution_count": 428
        },
        {
          "output_type": "display_data",
          "data": {
            "text/plain": [
              "<Figure size 640x480 with 1 Axes>"
            ],
            "image/png": "[encoded data removed]"
          },
          "metadata": {}
        }
      ]
    },
    {
      "cell_type": "code",
      "source": [
        "x_labels = ['x1', 'x2', 'x3', 'x4']  # Etiquetas para cada variable x\n",
        "\n",
        "# Recorremos cada variable x y trazamos un gráfico de dispersión individual\n",
        "for i in range(4):\n",
        "    pyplot.scatter(range(300), X[:300, i], label=x_labels[i])\n",
        "\n",
        "# Configuración del gráfico\n",
        "pyplot.xlabel('Puntos de datos')\n",
        "pyplot.ylabel('Valor')\n",
        "pyplot.legend()\n",
        "\n",
        "# Mostrar el gráfico\n",
        "pyplot.show()"
      ],
      "metadata": {
        "colab": {
          "base_uri": "https://localhost:8080/",
          "height": 449
        },
        "id": "fQpF0C_Av2eq",
        "outputId": "9e5eb576-d54a-457a-d7ee-4525d7a4ab13"
      },
      "execution_count": 429,
      "outputs": [
        {
          "output_type": "display_data",
          "data": {
            "text/plain": [
              "<Figure size 640x480 with 1 Axes>"
            ],
            "image/png": "[encoded data removed]"
          },
          "metadata": {}
        }
      ]
    },
    {
      "cell_type": "markdown",
      "metadata": {
        "id": "pP-oF-Y8W3zp"
      },
      "source": [
        "## 2 Regresión lineal con multiples variables\n",
        "\n",
        "Se implementa la regresion lineal multivariable para predecir el precio de las casas. El archivo `Datasets/ex1data2.txt` contiene un conjunto de entrenamiento de precios de casas en Portland, Oregon. La primera columna es el tamaño de la casa en metros cuadrados, la segunda columna es el numero de cuartos, y la tercera columna es el precio de la casa. \n",
        "\n",
        "<a id=\"section4\"></a>\n",
        "### 2.1 Normalización de caracteristicas\n",
        "\n",
        "Al visualizar los datos se puede observar que las caracteristicas tienen diferentes magnitudes, por lo cual se debe transformar cada valor en una escala de valores similares, esto con el fin de que el descenso por el gradiente pueda converger mas rapidamente."
      ]
    },
    {
      "cell_type": "markdown",
      "metadata": {
        "id": "Lr8JRNkyVn82"
      },
      "source": [
        "La desviación estándar es una forma de medir cuánta variación hay en el rango de valores de una característica en particular (la mayoría de los puntos caeran en un rango de ± 2 en relación a la desviaciones estándar de la media); esta es una alternativa a tomar el rango de valores (max-min). En `numpy`, se puede usar la función `std` para calcular la desviacion estandar. \n",
        "\n",
        "Por ejemplo, la caracteristica`X[:, 0]` contiene todos los valores de $x_1$ (tamaño de las casas) en el conjunto de entrenamiento, entonces `np.std(X[:, 0])` calcula la desviacion estandar de los tamaños de las casas.\n",
        "En el momento en que se llama a la función `featureNormalize`, la columna adicional de unos correspondiente a $ x_0 = 1 $ aún no se ha agregado a $ X $. \n",
        "\n",
        "<div class=\"alert alert-block alert-warning\">\n",
        "**Notas para la implementación:** Cuando se normalize una caracteristica, es importante almacenar los valores usados para la normalización - el valor de la media y el valor de la desviación estandar usado para los calculos. Despues de aprender los parametros del modelo, se deseara predecir los precios de casas que no se han visto antes. Dado un nuevo valor de x (area del living room y el numero de dormitorios), primero se debe normalizar x usando la media y la desviacion estandar que se empleo anteriormente en el conjunto de entrenamiento para entrenar el modelo.\n",
        "</div>\n",
        "<a id=\"featureNormalize\"></a>"
      ]
    },
    {
      "cell_type": "code",
      "execution_count": 430,
      "metadata": {
        "id": "dgT4rR9iVn82"
      },
      "outputs": [],
      "source": [
        "def  featureNormalize(X):\n",
        "    X_norm = X.copy()\n",
        "    mu = np.zeros(X.shape[0])\n",
        "    sigma = np.zeros(X.shape[0])\n",
        "\n",
        "    mu = np.mean(X, axis = 0)\n",
        "    sigma = np.std(X, axis = 0)\n",
        "    X_norm = (X - mu) / sigma\n",
        "    \n",
        "    return X_norm, mu, sigma"
      ]
    },
    {
      "cell_type": "code",
      "execution_count": 431,
      "metadata": {
        "colab": {
          "base_uri": "https://localhost:8080/"
        },
        "id": "MfiaMoWEVn82",
        "outputId": "77a48706-f5b0-4a5b-b82a-fe6f491cb238"
      },
      "outputs": [
        {
          "output_type": "stream",
          "name": "stdout",
          "text": [
            "[[ 21.5          1.8        140.          28.        ]\n",
            " [ 28.4          3.2        225.          25.        ]\n",
            " [ 27.39075484   3.2        225.          26.        ]\n",
            " ...\n",
            " [ 19.46         1.8        168.          23.        ]\n",
            " [ 12.885        1.8        195.          23.        ]\n",
            " [ 42.66         2.4        205.          27.        ]]\n",
            "Media calculada: [ 27.67343443   3.06186855 185.83966533  23.87348474]\n",
            "Desviación estandar calculada: [14.39139814  1.03736349 56.73671689  4.2159623 ]\n",
            "[[-0.42896697 -1.2164189  -0.80793652  0.97878372]\n",
            " [ 0.0504861   0.13315626  0.6902115   0.2672024 ]\n",
            " [-0.01964226  0.13315626  0.6902115   0.50439618]\n",
            " ...\n",
            " [-0.57071831 -1.2164189  -0.31442893 -0.20718514]\n",
            " [-1.02758844 -1.2164189   0.16145338 -0.20718514]\n",
            " [ 1.04135578 -0.63802954  0.33770609  0.74158995]]\n"
          ]
        }
      ],
      "source": [
        "# llama featureNormalize con los datos cargados\n",
        "X_norm, mu, sigma = featureNormalize(X)\n",
        "\n",
        "print(X)\n",
        "print('Media calculada:', mu)\n",
        "print('Desviación estandar calculada:', sigma)\n",
        "print(X_norm)"
      ]
    },
    {
      "cell_type": "markdown",
      "metadata": {
        "id": "pDbib1JVVn82"
      },
      "source": [
        "Despues de `featureNormalize` la funcion es provada, se añade el temino de interseccion a `X_norm`:"
      ]
    },
    {
      "cell_type": "code",
      "execution_count": 432,
      "metadata": {
        "id": "qXpGaaD0Vn83"
      },
      "outputs": [],
      "source": [
        "# Añade el termino de interseccion a X\n",
        "# (Columna de unos para X0)\n",
        "X = np.concatenate([np.ones((m, 1)), X_norm], axis=1)"
      ]
    },
    {
      "cell_type": "code",
      "execution_count": 433,
      "metadata": {
        "colab": {
          "base_uri": "https://localhost:8080/"
        },
        "id": "Pzz24OdaVn83",
        "outputId": "95e06d09-5b97-4f56-d238-d6b907e4ee92"
      },
      "outputs": [
        {
          "output_type": "stream",
          "name": "stdout",
          "text": [
            "[[ 1.         -0.42896697 -1.2164189  -0.80793652  0.97878372]\n",
            " [ 1.          0.0504861   0.13315626  0.6902115   0.2672024 ]\n",
            " [ 1.         -0.01964226  0.13315626  0.6902115   0.50439618]\n",
            " ...\n",
            " [ 1.         -0.57071831 -1.2164189  -0.31442893 -0.20718514]\n",
            " [ 1.         -1.02758844 -1.2164189   0.16145338 -0.20718514]\n",
            " [ 1.          1.04135578 -0.63802954  0.33770609  0.74158995]]\n"
          ]
        }
      ],
      "source": [
        "print(X)"
      ]
    },
    {
      "cell_type": "markdown",
      "metadata": {
        "id": "V54HlIKAVn83"
      },
      "source": [
        "<a id=\"section5\"></a>\n",
        "### 2.2 Descenso por el gradiente\n",
        "\n",
        "En el ejemplo anterior se implemento el descenso por el gradiente para un problema de regresion univariable. La unica diferencia es que ahora existe una caracteristica adicional en la matriz $X$. La función de hipótesis y la regla de actualización del descenso del gradiente por lotes permanecen sin cambios.\n",
        "\n",
        "La implementacion de las funciones `computeCostMulti` y `gradientDescentMulti` son similares a la funcion de costo y función de descenso por el gradiente de la regresión lineal multiple es similar al de la regresion lineal multivariable. Es importante garantizar que el codigo soporte cualquier numero de caracteristicas y esten bien vectorizadas.\n",
        "\n",
        "Se puede utilizar `shape`, propiedad de los arrays `numpy`, para identificar cuantas caracteristicas estan consideradas en el dataset.\n",
        "\n",
        "<div class=\"alert alert-block alert-warning\">\n",
        "**Nota de implementación:** En el caso de multivariables, la función de costo puede se escrita considerando la forma vectorizada de la siguiente manera:\n",
        "\n",
        "$$ J(\\theta) = \\frac{1}{2m}(X\\theta - \\vec{y})^T(X\\theta - \\vec{y}) $$\n",
        "\n",
        "donde:\n",
        "\n",
        "$$ X = \\begin{pmatrix}\n",
        "          - (x^{(1)})^T - \\\\\n",
        "          - (x^{(2)})^T - \\\\\n",
        "          \\vdots \\\\\n",
        "          - (x^{(m)})^T - \\\\ \\\\\n",
        "        \\end{pmatrix} \\qquad \\mathbf{y} = \\begin{bmatrix} y^{(1)} \\\\ y^{(2)} \\\\ \\vdots \\\\ y^{(m)} \\\\\\end{bmatrix}$$\n",
        "\n",
        "La version vectorizada es eficiente cuando se trabaja con herramientas de calculo numericos computacional como `numpy`. \n",
        "</div>\n",
        "\n",
        "<a id=\"computeCostMulti\"></a>"
      ]
    },
    {
      "cell_type": "code",
      "execution_count": 434,
      "metadata": {
        "id": "R5xCTuCUVn83"
      },
      "outputs": [],
      "source": [
        "def computeCostMulti(X, y, theta):\n",
        "    # Inicializa algunos valores utiles\n",
        "    m = y.shape[0] # numero de ejemplos de entrenamiento\n",
        "    \n",
        "    J = 0\n",
        "    \n",
        "    h = np.dot(X, theta)\n",
        "    \n",
        "    J = (1/(2 * m)) * np.sum(np.square(np.dot(X, theta) - y))\n",
        "    \n",
        "    return J\n"
      ]
    },
    {
      "cell_type": "code",
      "execution_count": 435,
      "metadata": {
        "id": "1FbQyFHtVn83"
      },
      "outputs": [],
      "source": [
        "def gradientDescentMulti(X, y, theta, alpha, num_iters):\n",
        "    \n",
        "    # Inicializa algunos valores \n",
        "    m = y.shape[0] # numero de ejemplos de entrenamiento\n",
        "    \n",
        "    # realiza una copia de theta, el cual será acutalizada por el descenso por el gradiente\n",
        "    theta = theta.copy()\n",
        "    \n",
        "    J_history = []\n",
        "    \n",
        "    for i in range(num_iters):\n",
        "        theta = theta - (alpha / m) * (np.dot(X, theta) - y).dot(X)\n",
        "        J_history.append(computeCostMulti(X, y, theta))\n",
        "    \n",
        "    return theta, J_history"
      ]
    },
    {
      "cell_type": "markdown",
      "metadata": {
        "id": "dJ2VxNfaVn83"
      },
      "source": [
        "#### 3.2.1 Seleccionando coheficientes de aprendizaje\n"
      ]
    },
    {
      "cell_type": "code",
      "source": [
        "#X_array = X[1].copy()\n",
        "#X_array"
      ],
      "metadata": {
        "id": "cJtrnTSSiKXJ"
      },
      "execution_count": 436,
      "outputs": []
    },
    {
      "cell_type": "code",
      "execution_count": 446,
      "metadata": {
        "colab": {
          "base_uri": "https://localhost:8080/",
          "height": 518
        },
        "id": "K4gVCgsfVn84",
        "outputId": "4d3248b0-a29d-454a-fe67-08b1e96ae86f"
      },
      "outputs": [
        {
          "output_type": "stream",
          "name": "stdout",
          "text": [
            "theta calculado por el descenso por el gradiente: [0.47951065 0.09147088 0.73712013 0.07593486 1.40028107]\n",
            "ventas de automoviles (usando el descenso por el gradiente):  37.602211522373416\n",
            "Error Porcentual: 4.52%\n",
            "Venta Real Y real : 39.384\n"
          ]
        },
        {
          "output_type": "display_data",
          "data": {
            "text/plain": [
              "<Figure size 640x480 with 1 Axes>"
            ],
            "image/png": "[encoded data removed]"
          },
          "metadata": {}
        }
      ],
      "source": [
        "# Elegir algun valor para alpha (probar varias alternativas)\n",
        "\n",
        "\n",
        "\n",
        "alpha = 0.00001 # alpha = 0.003 0.00001\n",
        "num_iters = 45500  # 50000\n",
        "\n",
        "# inicializa theta y ejecuta el descenso por el gradiente\n",
        "theta = np.zeros(5)\n",
        "theta, J_history = gradientDescentMulti(X, y, theta, alpha, num_iters)\n",
        "\n",
        "# Grafica la convergencia del costo\n",
        "pyplot.plot(np.arange(len(J_history)), J_history, lw=2)\n",
        "pyplot.xlabel('Numero de iteraciones')\n",
        "pyplot.ylabel('Costo J')\n",
        "\n",
        "# Muestra los resultados del descenso por el gradiente\n",
        "print('theta calculado por el descenso por el gradiente: {:s}'.format(str(theta)))\n",
        "dato = 1\n",
        "X_array = np.insert(X_prueba[dato].copy(), 0, 1)\n",
        "#X_array = [1,22.368,3,194,22]\n",
        "X_array[0:4] = (X_array[0:4] - mu) / sigma\n",
        "\n",
        "venta = np.dot(X_array, theta)   # Se debe cambiar esto\n",
        "\n",
        "print('ventas de automoviles (usando el descenso por el gradiente): ', venta)\n",
        "print('Error Porcentual: {:.2f}%'.format((y[dato]-venta)/y[dato] * 100))\n",
        "print('Venta Real Y real :', y[dato])\n",
        "\n",
        "#import matplotlib.pyplot as plt\n",
        "\n"
      ]
    },
    {
      "cell_type": "code",
      "source": [
        "\n",
        "print('theta calculado por el descenso por el gradiente: {:s}'.format(str(theta)))"
      ],
      "metadata": {
        "colab": {
          "base_uri": "https://localhost:8080/"
        },
        "id": "macbSIKve2dK",
        "outputId": "c530f8f2-7db4-4210-c69d-6c85b0affe1f"
      },
      "execution_count": 438,
      "outputs": [
        {
          "output_type": "stream",
          "name": "stdout",
          "text": [
            "theta calculado por el descenso por el gradiente: [ 2.39054729 -0.01106226 -0.04939029  0.05480228  0.02843578]\n"
          ]
        }
      ]
    },
    {
      "cell_type": "code",
      "execution_count": 439,
      "metadata": {
        "id": "5Bqbn4VtVn84",
        "colab": {
          "base_uri": "https://localhost:8080/"
        },
        "outputId": "0906459f-5465-4c48-9249-a2da07a1f8fa"
      },
      "outputs": [
        {
          "output_type": "stream",
          "name": "stdout",
          "text": [
            "-1.6857425355776154\n",
            "18.78\n"
          ]
        }
      ],
      "source": [
        "dato = 5\n",
        "X_array = np.insert(X_prueba[dato].copy(), 0, 1)\n",
        "X_array[0:4] = (X_array[0:4] - mu) / sigma\n",
        "venta = np.dot(X_array, theta)\n",
        "print(venta)\n",
        "print(y[dato])"
      ]
    },
    {
      "cell_type": "code",
      "execution_count": 440,
      "metadata": {
        "colab": {
          "base_uri": "https://localhost:8080/"
        },
        "id": "YiFRyR0DVn84",
        "outputId": "c95d3faf-a8b4-4592-9304-4ae0f3d22d32"
      },
      "outputs": [
        {
          "output_type": "execute_result",
          "data": {
            "text/plain": [
              "array([-1.85342898, 29.77561074, -3.22612367])"
            ]
          },
          "metadata": {},
          "execution_count": 440
        }
      ],
      "source": [
        "X_array[0:3]"
      ]
    },
    {
      "cell_type": "markdown",
      "metadata": {
        "id": "Tq1EPGUHVn84"
      },
      "source": [
        "<a id=\"section7\"></a>\n",
        "### 2.3 Ecuacion de la Normal\n",
        "\n",
        "Una manera de calcular rapidamente el modelo de una regresion lineal es:\n",
        "\n",
        "$$ \\theta = \\left( X^T X\\right)^{-1} X^T\\vec{y}$$\n",
        "\n",
        "Utilizando esta formula no requiere que se escale ninguna caracteristica, y se obtendra una solucion exacta con un solo calculo: no hay “bucles de convergencia” como en el descenso por el gradiente. \n",
        "\n",
        "Primero se recargan los datos para garantizar que las variables no esten modificadas. Recordar que no es necesario escalar las caracteristicas, se debe agregar la columna de unos a la matriz $X$ para tener el termino de intersección($\\theta_0$). "
      ]
    },
    {
      "cell_type": "code",
      "source": [
        "#data =pd.read_csv('/content/drive/MyDrive/datasets/Car.csv')"
      ],
      "metadata": {
        "id": "6jpdENV2jTxr"
      },
      "execution_count": 441,
      "outputs": []
    },
    {
      "cell_type": "code",
      "source": [
        "#data = data.to_numpy()"
      ],
      "metadata": {
        "id": "rev0-ceajXwa"
      },
      "execution_count": 442,
      "outputs": []
    },
    {
      "cell_type": "code",
      "execution_count": 443,
      "metadata": {
        "id": "5UE0T8ENVn84"
      },
      "outputs": [],
      "source": [
        "# Cargar datos\n",
        "#data = np.loadtxt(os.path.join('/content/drive/MyDrive/datasets/Car.csv'), delimiter=',')\n",
        "\n",
        "X = data[:10000,0:4]\n",
        "y = data[:10000, 4]\n",
        "m = y.size\n",
        "X = np.concatenate([np.ones((m, 1)), X], axis=1)"
      ]
    },
    {
      "cell_type": "code",
      "execution_count": 444,
      "metadata": {
        "id": "JQrs-6cGVn84"
      },
      "outputs": [],
      "source": [
        "def normalEqn(X, y):\n",
        "  \n",
        "    theta = np.zeros(X.shape[1])\n",
        "    \n",
        "    theta = np.dot(np.dot(np.linalg.inv(np.dot(X.T,X)),X.T),y)\n",
        "    \n",
        "    return theta"
      ]
    },
    {
      "cell_type": "code",
      "execution_count": 445,
      "metadata": {
        "id": "d0OzpOyyVn84",
        "colab": {
          "base_uri": "https://localhost:8080/"
        },
        "outputId": "0cf4ec7a-e27a-403e-8b25-212e094b0fb7"
      },
      "outputs": [
        {
          "output_type": "stream",
          "name": "stdout",
          "text": [
            "Theta calculado a partir de la ecuación de la normal: [ 5.05813820e+01 -2.60974387e-02 -1.10914723e+00  2.19951284e-02\n",
            "  1.34097964e-01]\n",
            "ventas de automoviles mejor:  54.329862875558696\n",
            "Error Porcentual VentaN y Y real: -175.13%\n",
            "Diferencia Porcentual entre VentaR y VentaN: 3322.90%\n",
            "ventas de automoviles mejor decenso gradiente : -1.6857425355776154\n",
            "Venta Real Y real : 19.747\n"
          ]
        }
      ],
      "source": [
        "# Calcula los parametros con la ecuación de la normal\n",
        "theta = normalEqn(X, y);\n",
        "\n",
        "# Muestra los resultados optenidos a partir de la aplicación de la ecuación de la normal\n",
        "print('Theta calculado a partir de la ecuación de la normal: {:s}'.format(str(theta)));\n",
        "dato1 = 7\n",
        "X_array = np.insert(X_prueba[dato1].copy(), 0, 1)\n",
        "ventaN = np.dot(X_array, theta) \n",
        "\n",
        "print('ventas de automoviles mejor: ',ventaN)\n",
        "print('Error Porcentual VentaN y Y real: {:.2f}%'.format((y[dato1]-ventaN)/y[dato1] * 100))\n",
        "print('Diferencia Porcentual entre VentaR y VentaN: {:.2f}%'.format(((venta-ventaN)/venta) * 100))\n",
        "print('ventas de automoviles mejor decenso gradiente :', venta)\n",
        "print('Venta Real Y real :', y[dato1])"
      ]
    },
    {
      "cell_type": "code",
      "source": [],
      "metadata": {
        "id": "AaY2weQ6y04r"
      },
      "execution_count": 445,
      "outputs": []
    }
  ],
  "metadata": {
    "kernelspec": {
      "display_name": "Python 3",
      "language": "python",
      "name": "python3"
    },
    "language_info": {
      "codemirror_mode": {
        "name": "ipython",
        "version": 3
      },
      "file_extension": ".py",
      "mimetype": "text/x-python",
      "name": "python",
      "nbconvert_exporter": "python",
      "pygments_lexer": "ipython3",
      "version": "3.8.5"
    },
    "colab": {
      "provenance": []
    }
  },
  "nbformat": 4,
  "nbformat_minor": 0
}